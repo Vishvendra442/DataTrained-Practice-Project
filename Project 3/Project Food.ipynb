{
 "cells": [
  {
   "cell_type": "code",
   "execution_count": 1,
   "metadata": {},
   "outputs": [],
   "source": [
    "#importing Libraries\n",
    "import pandas as pd\n",
    "import numpy as np\n",
    "\n",
    "#importing Visualisation Libraries\n",
    "import matplotlib.pyplot as plt\n",
    "import seaborn as sns\n",
    "\n",
    "#Importing Warnings\n",
    "import warnings\n",
    "warnings.filterwarnings('ignore')"
   ]
  },
  {
   "cell_type": "code",
   "execution_count": 2,
   "metadata": {},
   "outputs": [],
   "source": [
    "#Loding train Dataset\n",
    "ds1=pd.read_excel('Data_Train.xlsx')\n",
    "ds1=pd.DataFrame(ds1)\n",
    "ds_tr=ds1.copy()\n",
    "\n",
    "#Loding test Dataset\n",
    "ds2=pd.read_excel('Data_Test.xlsx')\n",
    "ds2=pd.DataFrame(ds2)\n",
    "ds_te=ds2.copy()"
   ]
  },
  {
   "cell_type": "code",
   "execution_count": 3,
   "metadata": {},
   "outputs": [
    {
     "name": "stdout",
     "output_type": "stream",
     "text": [
      "(12690, 9)\n"
     ]
    },
    {
     "data": {
      "text/html": [
       "<div>\n",
       "<style scoped>\n",
       "    .dataframe tbody tr th:only-of-type {\n",
       "        vertical-align: middle;\n",
       "    }\n",
       "\n",
       "    .dataframe tbody tr th {\n",
       "        vertical-align: top;\n",
       "    }\n",
       "\n",
       "    .dataframe thead th {\n",
       "        text-align: right;\n",
       "    }\n",
       "</style>\n",
       "<table border=\"1\" class=\"dataframe\">\n",
       "  <thead>\n",
       "    <tr style=\"text-align: right;\">\n",
       "      <th></th>\n",
       "      <th>TITLE</th>\n",
       "      <th>RESTAURANT_ID</th>\n",
       "      <th>CUISINES</th>\n",
       "      <th>TIME</th>\n",
       "      <th>CITY</th>\n",
       "      <th>LOCALITY</th>\n",
       "      <th>RATING</th>\n",
       "      <th>VOTES</th>\n",
       "      <th>COST</th>\n",
       "    </tr>\n",
       "  </thead>\n",
       "  <tbody>\n",
       "    <tr>\n",
       "      <th>0</th>\n",
       "      <td>CASUAL DINING</td>\n",
       "      <td>9438</td>\n",
       "      <td>Malwani, Goan, North Indian</td>\n",
       "      <td>11am – 4pm, 7:30pm – 11:30pm (Mon-Sun)</td>\n",
       "      <td>Thane</td>\n",
       "      <td>Dombivali East</td>\n",
       "      <td>3.6</td>\n",
       "      <td>49 votes</td>\n",
       "      <td>1200</td>\n",
       "    </tr>\n",
       "    <tr>\n",
       "      <th>1</th>\n",
       "      <td>CASUAL DINING,BAR</td>\n",
       "      <td>13198</td>\n",
       "      <td>Asian, Modern Indian, Japanese</td>\n",
       "      <td>6pm – 11pm (Mon-Sun)</td>\n",
       "      <td>Chennai</td>\n",
       "      <td>Ramapuram</td>\n",
       "      <td>4.2</td>\n",
       "      <td>30 votes</td>\n",
       "      <td>1500</td>\n",
       "    </tr>\n",
       "    <tr>\n",
       "      <th>2</th>\n",
       "      <td>CASUAL DINING</td>\n",
       "      <td>10915</td>\n",
       "      <td>North Indian, Chinese, Biryani, Hyderabadi</td>\n",
       "      <td>11am – 3:30pm, 7pm – 11pm (Mon-Sun)</td>\n",
       "      <td>Chennai</td>\n",
       "      <td>Saligramam</td>\n",
       "      <td>3.8</td>\n",
       "      <td>221 votes</td>\n",
       "      <td>800</td>\n",
       "    </tr>\n",
       "    <tr>\n",
       "      <th>3</th>\n",
       "      <td>QUICK BITES</td>\n",
       "      <td>6346</td>\n",
       "      <td>Tibetan, Chinese</td>\n",
       "      <td>11:30am – 1am (Mon-Sun)</td>\n",
       "      <td>Mumbai</td>\n",
       "      <td>Bandra West</td>\n",
       "      <td>4.1</td>\n",
       "      <td>24 votes</td>\n",
       "      <td>800</td>\n",
       "    </tr>\n",
       "    <tr>\n",
       "      <th>4</th>\n",
       "      <td>DESSERT PARLOR</td>\n",
       "      <td>15387</td>\n",
       "      <td>Desserts</td>\n",
       "      <td>11am – 1am (Mon-Sun)</td>\n",
       "      <td>Mumbai</td>\n",
       "      <td>Lower Parel</td>\n",
       "      <td>3.8</td>\n",
       "      <td>165 votes</td>\n",
       "      <td>300</td>\n",
       "    </tr>\n",
       "  </tbody>\n",
       "</table>\n",
       "</div>"
      ],
      "text/plain": [
       "               TITLE  RESTAURANT_ID  \\\n",
       "0      CASUAL DINING           9438   \n",
       "1  CASUAL DINING,BAR          13198   \n",
       "2      CASUAL DINING          10915   \n",
       "3        QUICK BITES           6346   \n",
       "4     DESSERT PARLOR          15387   \n",
       "\n",
       "                                     CUISINES  \\\n",
       "0                 Malwani, Goan, North Indian   \n",
       "1              Asian, Modern Indian, Japanese   \n",
       "2  North Indian, Chinese, Biryani, Hyderabadi   \n",
       "3                            Tibetan, Chinese   \n",
       "4                                    Desserts   \n",
       "\n",
       "                                     TIME     CITY        LOCALITY RATING  \\\n",
       "0  11am – 4pm, 7:30pm – 11:30pm (Mon-Sun)    Thane  Dombivali East    3.6   \n",
       "1                    6pm – 11pm (Mon-Sun)  Chennai       Ramapuram    4.2   \n",
       "2     11am – 3:30pm, 7pm – 11pm (Mon-Sun)  Chennai      Saligramam    3.8   \n",
       "3                 11:30am – 1am (Mon-Sun)   Mumbai     Bandra West    4.1   \n",
       "4                    11am – 1am (Mon-Sun)   Mumbai     Lower Parel    3.8   \n",
       "\n",
       "       VOTES  COST  \n",
       "0   49 votes  1200  \n",
       "1   30 votes  1500  \n",
       "2  221 votes   800  \n",
       "3   24 votes   800  \n",
       "4  165 votes   300  "
      ]
     },
     "execution_count": 3,
     "metadata": {},
     "output_type": "execute_result"
    }
   ],
   "source": [
    "#looking at dataset\n",
    "\n",
    "print(ds_tr.shape)\n",
    "ds_tr.head()"
   ]
  },
  {
   "cell_type": "markdown",
   "metadata": {},
   "source": [
    "TITLE: The feature of the restaurant which can help identify what and for whom it is suitable for.\n",
    "\n",
    "RESTAURANT_ID: A unique ID for each restaurant.\n",
    "\n",
    "CUISINES: The variety of cuisines that the restaurant offers.\n",
    "\n",
    "TIME: The open hours of the restaurant.\n",
    "\n",
    "CITY: The city in which the restaurant is located.\n",
    "\n",
    "LOCALITY: The locality of the restaurant.\n",
    "\n",
    "RATING: The average rating of the restaurant by customers.\n",
    "\n",
    "VOTES: The overall votes received by the restaurant.\n",
    "\n",
    "COST: The average cost of a two-person meal."
   ]
  },
  {
   "cell_type": "code",
   "execution_count": 4,
   "metadata": {},
   "outputs": [
    {
     "name": "stdout",
     "output_type": "stream",
     "text": [
      "TITLE: 113\n",
      "RESTAURANT_ID: 11892\n",
      "TIME: 2689\n",
      "CITY: 359\n",
      "LOCALITY 1416\n",
      "RATING 32\n",
      "VOTES 1847\n",
      "CUISINES 4155\n"
     ]
    }
   ],
   "source": [
    "#printing number of unique Values\n",
    "\n",
    "print('TITLE:', ds_tr['TITLE'].nunique())\n",
    "print('RESTAURANT_ID:', ds_tr['RESTAURANT_ID'].nunique())\n",
    "print('TIME:', ds_tr['TIME'].nunique())\n",
    "print('CITY:', ds_tr['CITY'].nunique())\n",
    "print('LOCALITY', ds_tr['LOCALITY'].nunique())\n",
    "print('RATING', ds_tr['RATING'].nunique())\n",
    "print('VOTES', ds_tr['VOTES'].nunique())\n",
    "print('CUISINES', ds_tr['CUISINES'].nunique())"
   ]
  },
  {
   "cell_type": "markdown",
   "metadata": {},
   "source": [
    "Here we see that we can drop RESTAURANT_ID feature"
   ]
  },
  {
   "cell_type": "code",
   "execution_count": 5,
   "metadata": {},
   "outputs": [],
   "source": [
    "#dropping unecessary column\n",
    "ds_tr=ds_tr.drop(['RESTAURANT_ID'],axis=1)\n",
    "\n",
    "ds_te=ds_te.drop(['RESTAURANT_ID'],axis=1)"
   ]
  },
  {
   "cell_type": "code",
   "execution_count": 6,
   "metadata": {},
   "outputs": [
    {
     "name": "stdout",
     "output_type": "stream",
     "text": [
      "<class 'pandas.core.frame.DataFrame'>\n",
      "RangeIndex: 12690 entries, 0 to 12689\n",
      "Data columns (total 8 columns):\n",
      " #   Column    Non-Null Count  Dtype \n",
      "---  ------    --------------  ----- \n",
      " 0   TITLE     12690 non-null  object\n",
      " 1   CUISINES  12690 non-null  object\n",
      " 2   TIME      12690 non-null  object\n",
      " 3   CITY      12578 non-null  object\n",
      " 4   LOCALITY  12592 non-null  object\n",
      " 5   RATING    12688 non-null  object\n",
      " 6   VOTES     11486 non-null  object\n",
      " 7   COST      12690 non-null  int64 \n",
      "dtypes: int64(1), object(7)\n",
      "memory usage: 793.2+ KB\n"
     ]
    }
   ],
   "source": [
    "#Checking info of dataset\n",
    "\n",
    "ds_tr.info()"
   ]
  },
  {
   "cell_type": "markdown",
   "metadata": {},
   "source": [
    "we need to  remove vote string from votes column to make it dtype float \n",
    "\n",
    "we need to seprate different type of cousine as they are written in same column\n",
    "\n",
    "we need to seprate different title as they are written in same column\n",
    "\n"
   ]
  },
  {
   "cell_type": "markdown",
   "metadata": {},
   "source": [
    "\n",
    "\n",
    "# Null Values"
   ]
  },
  {
   "cell_type": "code",
   "execution_count": 7,
   "metadata": {},
   "outputs": [
    {
     "name": "stdout",
     "output_type": "stream",
     "text": [
      "Train\n",
      "TITLE          0\n",
      "CUISINES       0\n",
      "TIME           0\n",
      "CITY         112\n",
      "LOCALITY      98\n",
      "RATING         2\n",
      "VOTES       1204\n",
      "COST           0\n",
      "dtype: int64\n",
      "\n",
      "Test\n",
      "TITLE         0\n",
      "CUISINES      0\n",
      "TIME          0\n",
      "CITY         35\n",
      "LOCALITY     30\n",
      "RATING        2\n",
      "VOTES       402\n",
      "dtype: int64\n"
     ]
    }
   ],
   "source": [
    "#Checking Null Values\n",
    "\n",
    "#Train Data\n",
    "print('Train')\n",
    "print(ds_tr.isnull().sum())\n",
    "print()\n",
    "\n",
    "#Test Data\n",
    "print('Test')\n",
    "print(ds_te.isnull().sum())"
   ]
  },
  {
   "cell_type": "markdown",
   "metadata": {},
   "source": [
    "as city and locality are releated to each other like locality depend on city so we cannot use mode method and fill any city or column name annomsly, so we will fill them with Unkown\n",
    "\n",
    "we will fill rating with mean value and votes with 0"
   ]
  },
  {
   "cell_type": "markdown",
   "metadata": {},
   "source": [
    "# Data Pre-Processing"
   ]
  },
  {
   "cell_type": "code",
   "execution_count": 8,
   "metadata": {},
   "outputs": [
    {
     "data": {
      "text/plain": [
       "array(['3.6', '4.2', '3.8', '4.1', '4.0', '4.3', '3.9', '3.3', '3.4', '-',\n",
       "       '4.5', '3.5', '4.4', '2.7', '3.7', '4.7', 'NEW', '3.1', '2.5',\n",
       "       '4.6', '2.8', nan, '3.0', '3.2', '2.6', '2.9', '4.9', '4.8', '2.4',\n",
       "       '2.3', '2.0', '2.1', '2.2'], dtype=object)"
      ]
     },
     "execution_count": 8,
     "metadata": {},
     "output_type": "execute_result"
    }
   ],
   "source": [
    "ds_tr[\"RATING\"].unique()"
   ]
  },
  {
   "cell_type": "code",
   "execution_count": 9,
   "metadata": {},
   "outputs": [],
   "source": [
    "#Converting rating data type to float\n",
    "#train\n",
    "ds_tr['RATING'] = ds_tr['RATING'].str.replace('NEW', '0')\n",
    "ds_tr['RATING'] = ds_tr['RATING'].str.replace('-', '0')\n",
    "ds_tr['RATING'] = ds_tr['RATING'].astype('float')\n",
    "#test\n",
    "ds_te['RATING'] = ds_te['RATING'].str.replace('NEW', '0')\n",
    "ds_te['RATING'] = ds_te['RATING'].str.replace('-', '0')\n",
    "ds_te['RATING'] = ds_te['RATING'].astype('float')"
   ]
  },
  {
   "cell_type": "markdown",
   "metadata": {},
   "source": [
    "Removing votes from VOTES Feature"
   ]
  },
  {
   "cell_type": "code",
   "execution_count": 10,
   "metadata": {},
   "outputs": [],
   "source": [
    "#Filling NaN to 0\n",
    "\n",
    "#Train\n",
    "ds_tr['VOTES'].fillna('0' ,inplace=True)\n",
    "\n",
    "#Test\n",
    "ds_te['VOTES'].fillna('0' ,inplace=True)\n",
    "\n",
    "#Train\n",
    "# split the string into a list \n",
    "ds_tr[\"VOTES\"] = ds_tr[\"VOTES\"].str.split()\n",
    "\n",
    "#extract the first element of the list and convert it into an integer\n",
    "ds_tr[\"VOTES\"] = ds_tr[\"VOTES\"].str[0].astype(\"int\")\n",
    "\n",
    "#Test\n",
    "# split the string into a list \n",
    "ds_te[\"VOTES\"] = ds_te[\"VOTES\"].str.split()\n",
    "\n",
    "#extract the first element of the list and convert it into an integer\n",
    "ds_te[\"VOTES\"] = ds_te[\"VOTES\"].str[0].astype(\"int\")\n",
    "\n",
    "#making copy of dataset\n",
    "ds_vs=ds_tr.copy()"
   ]
  },
  {
   "cell_type": "markdown",
   "metadata": {},
   "source": [
    "# Seprating Different CUISINES  into different columns"
   ]
  },
  {
   "cell_type": "markdown",
   "metadata": {},
   "source": [
    "Train Dataset"
   ]
  },
  {
   "cell_type": "code",
   "execution_count": 11,
   "metadata": {},
   "outputs": [],
   "source": [
    "#making list of columns\n",
    "cuisines = list(ds_tr['CUISINES'])\n",
    "\n",
    "#making 8 empty list as there are 8 different type of couisins\n",
    "C1 = []\n",
    "C2 = []\n",
    "C3 = []\n",
    "C4 = []\n",
    "C5 = []\n",
    "C6 = []\n",
    "C7 = []\n",
    "C8 = []\n",
    "\n",
    "#here we are generating for loop of different index if at that index any sting is not availabl then we put None there\n",
    "for i in cuisines:\n",
    "        try :\n",
    "            C1.append(i.split(',')[0].strip())\n",
    "        except :\n",
    "            C1.append('None')\n",
    "        try :\n",
    "            C2.append(i.split(',')[1].strip())\n",
    "        except :\n",
    "            C2.append('None')\n",
    "        try :\n",
    "            C3.append(i.split(',')[2].strip())\n",
    "        except :\n",
    "            C3.append('None')\n",
    "        try :\n",
    "            C4.append(i.split(',')[3].strip())\n",
    "        except :\n",
    "            C4.append('None')\n",
    "        try :\n",
    "            C5.append(i.split(',')[4].strip())\n",
    "        except :\n",
    "            C5.append('None')\n",
    "        try :\n",
    "            C6.append(i.split(',')[5].strip())\n",
    "        except :\n",
    "            C6.append('None')\n",
    "        try :\n",
    "            C7.append(i.split(',')[6].strip())\n",
    "        except :\n",
    "            C7.append('None')\n",
    "        try :\n",
    "            C8.append(i.split(',')[7].strip())\n",
    "        except :\n",
    "            C8.append('None')\n",
    "\n",
    "#Putting those city back to dataset\n",
    "ds_tr['CUISINE1'] = C1\n",
    "ds_tr['CUISINE2'] = C2\n",
    "ds_tr['CUISINE3'] = C3\n",
    "ds_tr['CUISINE4'] = C4\n",
    "ds_tr['CUISINE5'] = C5\n",
    "ds_tr['CUISINE6'] = C6\n",
    "ds_tr['CUISINE7'] = C7\n",
    "ds_tr['CUISINE8'] = C8\n",
    "\n",
    "#Dropping Cuisines Columns as now it is of no use\n",
    "ds_tr=ds_tr.drop(['CUISINES'],axis=1)"
   ]
  },
  {
   "cell_type": "markdown",
   "metadata": {},
   "source": [
    "Test DataSet"
   ]
  },
  {
   "cell_type": "code",
   "execution_count": 12,
   "metadata": {},
   "outputs": [],
   "source": [
    "#making list of columns\n",
    "cuisines = list(ds_te['CUISINES'])\n",
    "\n",
    "#making 8 empty list as there are 8 different type of couisins\n",
    "C1 = []\n",
    "C2 = []\n",
    "C3 = []\n",
    "C4 = []\n",
    "C5 = []\n",
    "C6 = []\n",
    "C7 = []\n",
    "C8 = []\n",
    "\n",
    "#here we are generating for loop of different index if at that index any sting is not availabl then we put None there\n",
    "for i in cuisines:\n",
    "        try :\n",
    "            C1.append(i.split(',')[0].strip())\n",
    "        except :\n",
    "            C1.append('None')\n",
    "        try :\n",
    "            C2.append(i.split(',')[1].strip())\n",
    "        except :\n",
    "            C2.append('None')\n",
    "        try :\n",
    "            C3.append(i.split(',')[2].strip())\n",
    "        except :\n",
    "            C3.append('None')\n",
    "        try :\n",
    "            C4.append(i.split(',')[3].strip())\n",
    "        except :\n",
    "            C4.append('None')\n",
    "        try :\n",
    "            C5.append(i.split(',')[4].strip())\n",
    "        except :\n",
    "            C5.append('None')\n",
    "        try :\n",
    "            C6.append(i.split(',')[5].strip())\n",
    "        except :\n",
    "            C6.append('None')\n",
    "        try :\n",
    "            C7.append(i.split(',')[6].strip())\n",
    "        except :\n",
    "            C7.append('None')\n",
    "        try :\n",
    "            C8.append(i.split(',')[7].strip())\n",
    "        except :\n",
    "            C8.append('None')\n",
    "\n",
    "#Putting those city back to dataset\n",
    "ds_te['CUISINE1'] = C1\n",
    "ds_te['CUISINE2'] = C2\n",
    "ds_te['CUISINE3'] = C3\n",
    "ds_te['CUISINE4'] = C4\n",
    "ds_te['CUISINE5'] = C5\n",
    "ds_te['CUISINE6'] = C6\n",
    "ds_te['CUISINE7'] = C7\n",
    "ds_te['CUISINE8'] = C8\n",
    "\n",
    "#Dropping Cuisines Columns as now it is of no use\n",
    "ds_te=ds_te.drop(['CUISINES'],axis=1)"
   ]
  },
  {
   "cell_type": "markdown",
   "metadata": {},
   "source": [
    "# Seprating Different Title into different columns"
   ]
  },
  {
   "cell_type": "code",
   "execution_count": 13,
   "metadata": {},
   "outputs": [],
   "source": [
    "#Train Datase\n",
    "\n",
    "#making list of column\n",
    "titles = list(ds_tr['TITLE'])\n",
    "\n",
    "\n",
    "#making 8 empty list as there are 8 different type of couisins\n",
    "T1 = []\n",
    "T2 = []\n",
    "\n",
    "#here we are generating for loop of different index if at that index any sting is not availabl then we put None there\n",
    "for i in titles:\n",
    "    T1.append(i.split(',')[0].strip())\n",
    "    try :\n",
    "         T2.append(i.split(',')[1].strip())\n",
    "    except :\n",
    "         T2.append('NONE')\n",
    "\n",
    "#Putting those city back to dataset\n",
    "ds_tr['TITLE1'] = T1\n",
    "ds_tr['TITLE2'] = T2\n",
    "\n",
    "#Test Dataset\n",
    "\n",
    "#making list of column\n",
    "titles = list(ds_te['TITLE'])\n",
    "\n",
    "\n",
    "#making 8 empty list as there are 8 different type of couisins\n",
    "T1 = []\n",
    "T2 = []\n",
    "\n",
    "#here we are generating for loop of different index if at that index any sting is not availabl then we put None there\n",
    "for i in titles:\n",
    "    T1.append(i.split(',')[0].strip())\n",
    "    try :\n",
    "         T2.append(i.split(',')[1].strip())\n",
    "    except :\n",
    "         T2.append('NONE')\n",
    "\n",
    "#Putting those city back to dataset\n",
    "ds_te['TITLE1'] = T1\n",
    "ds_te['TITLE2'] = T2\n",
    "\n",
    "#Dropping Cuisines Columns as now it is of no use\n",
    "ds_tr=ds_tr.drop(['TITLE'],axis=1) #train\n",
    "ds_te=ds_te.drop(['TITLE'],axis=1) #test"
   ]
  },
  {
   "cell_type": "code",
   "execution_count": 14,
   "metadata": {},
   "outputs": [
    {
     "data": {
      "text/html": [
       "<div>\n",
       "<style scoped>\n",
       "    .dataframe tbody tr th:only-of-type {\n",
       "        vertical-align: middle;\n",
       "    }\n",
       "\n",
       "    .dataframe tbody tr th {\n",
       "        vertical-align: top;\n",
       "    }\n",
       "\n",
       "    .dataframe thead th {\n",
       "        text-align: right;\n",
       "    }\n",
       "</style>\n",
       "<table border=\"1\" class=\"dataframe\">\n",
       "  <thead>\n",
       "    <tr style=\"text-align: right;\">\n",
       "      <th></th>\n",
       "      <th>RATING</th>\n",
       "      <th>VOTES</th>\n",
       "      <th>COST</th>\n",
       "    </tr>\n",
       "  </thead>\n",
       "  <tbody>\n",
       "    <tr>\n",
       "      <th>count</th>\n",
       "      <td>12688.000000</td>\n",
       "      <td>12690.000000</td>\n",
       "      <td>12690.000000</td>\n",
       "    </tr>\n",
       "    <tr>\n",
       "      <th>mean</th>\n",
       "      <td>3.426836</td>\n",
       "      <td>376.231127</td>\n",
       "      <td>655.252246</td>\n",
       "    </tr>\n",
       "    <tr>\n",
       "      <th>std</th>\n",
       "      <td>1.179107</td>\n",
       "      <td>810.946942</td>\n",
       "      <td>627.003540</td>\n",
       "    </tr>\n",
       "    <tr>\n",
       "      <th>min</th>\n",
       "      <td>0.000000</td>\n",
       "      <td>0.000000</td>\n",
       "      <td>20.000000</td>\n",
       "    </tr>\n",
       "    <tr>\n",
       "      <th>25%</th>\n",
       "      <td>3.400000</td>\n",
       "      <td>39.250000</td>\n",
       "      <td>300.000000</td>\n",
       "    </tr>\n",
       "    <tr>\n",
       "      <th>50%</th>\n",
       "      <td>3.800000</td>\n",
       "      <td>132.000000</td>\n",
       "      <td>500.000000</td>\n",
       "    </tr>\n",
       "    <tr>\n",
       "      <th>75%</th>\n",
       "      <td>4.000000</td>\n",
       "      <td>405.000000</td>\n",
       "      <td>800.000000</td>\n",
       "    </tr>\n",
       "    <tr>\n",
       "      <th>max</th>\n",
       "      <td>4.900000</td>\n",
       "      <td>41186.000000</td>\n",
       "      <td>14000.000000</td>\n",
       "    </tr>\n",
       "  </tbody>\n",
       "</table>\n",
       "</div>"
      ],
      "text/plain": [
       "             RATING         VOTES          COST\n",
       "count  12688.000000  12690.000000  12690.000000\n",
       "mean       3.426836    376.231127    655.252246\n",
       "std        1.179107    810.946942    627.003540\n",
       "min        0.000000      0.000000     20.000000\n",
       "25%        3.400000     39.250000    300.000000\n",
       "50%        3.800000    132.000000    500.000000\n",
       "75%        4.000000    405.000000    800.000000\n",
       "max        4.900000  41186.000000  14000.000000"
      ]
     },
     "execution_count": 14,
     "metadata": {},
     "output_type": "execute_result"
    }
   ],
   "source": [
    "#Describing Dataset\n",
    "\n",
    "ds_tr.describe()"
   ]
  },
  {
   "cell_type": "markdown",
   "metadata": {},
   "source": [
    "Minimum cost is rs. 20 while maximum is 14000 which can ce a possible outliers\n",
    "\n",
    "while minimum votes are zero(which we gave to NaN values) and Maximum are 41186 which again ca be a possible outliers"
   ]
  },
  {
   "cell_type": "markdown",
   "metadata": {},
   "source": [
    "# Data Analysis"
   ]
  },
  {
   "cell_type": "markdown",
   "metadata": {},
   "source": [
    "# Univarient Analysis"
   ]
  },
  {
   "cell_type": "code",
   "execution_count": 15,
   "metadata": {},
   "outputs": [
    {
     "data": {
      "text/html": [
       "<div>\n",
       "<style scoped>\n",
       "    .dataframe tbody tr th:only-of-type {\n",
       "        vertical-align: middle;\n",
       "    }\n",
       "\n",
       "    .dataframe tbody tr th {\n",
       "        vertical-align: top;\n",
       "    }\n",
       "\n",
       "    .dataframe thead th {\n",
       "        text-align: right;\n",
       "    }\n",
       "</style>\n",
       "<table border=\"1\" class=\"dataframe\">\n",
       "  <thead>\n",
       "    <tr style=\"text-align: right;\">\n",
       "      <th></th>\n",
       "      <th>TIME</th>\n",
       "      <th>CITY</th>\n",
       "      <th>LOCALITY</th>\n",
       "      <th>RATING</th>\n",
       "      <th>VOTES</th>\n",
       "      <th>COST</th>\n",
       "      <th>CUISINE1</th>\n",
       "      <th>CUISINE2</th>\n",
       "      <th>CUISINE3</th>\n",
       "      <th>CUISINE4</th>\n",
       "      <th>CUISINE5</th>\n",
       "      <th>CUISINE6</th>\n",
       "      <th>CUISINE7</th>\n",
       "      <th>CUISINE8</th>\n",
       "      <th>TITLE1</th>\n",
       "      <th>TITLE2</th>\n",
       "    </tr>\n",
       "  </thead>\n",
       "  <tbody>\n",
       "    <tr>\n",
       "      <th>0</th>\n",
       "      <td>11am – 4pm, 7:30pm – 11:30pm (Mon-Sun)</td>\n",
       "      <td>Thane</td>\n",
       "      <td>Dombivali East</td>\n",
       "      <td>3.6</td>\n",
       "      <td>49</td>\n",
       "      <td>1200</td>\n",
       "      <td>Malwani</td>\n",
       "      <td>Goan</td>\n",
       "      <td>North Indian</td>\n",
       "      <td>None</td>\n",
       "      <td>None</td>\n",
       "      <td>None</td>\n",
       "      <td>None</td>\n",
       "      <td>None</td>\n",
       "      <td>CASUAL DINING</td>\n",
       "      <td>NONE</td>\n",
       "    </tr>\n",
       "  </tbody>\n",
       "</table>\n",
       "</div>"
      ],
      "text/plain": [
       "                                     TIME   CITY        LOCALITY  RATING  \\\n",
       "0  11am – 4pm, 7:30pm – 11:30pm (Mon-Sun)  Thane  Dombivali East     3.6   \n",
       "\n",
       "   VOTES  COST CUISINE1 CUISINE2      CUISINE3 CUISINE4 CUISINE5 CUISINE6  \\\n",
       "0     49  1200  Malwani     Goan  North Indian     None     None     None   \n",
       "\n",
       "  CUISINE7 CUISINE8         TITLE1 TITLE2  \n",
       "0     None     None  CASUAL DINING   NONE  "
      ]
     },
     "execution_count": 15,
     "metadata": {},
     "output_type": "execute_result"
    }
   ],
   "source": [
    "ds_tr.head(1)"
   ]
  },
  {
   "cell_type": "code",
   "execution_count": 16,
   "metadata": {},
   "outputs": [
    {
     "data": {
      "text/plain": [
       "(array([   20.,  1418.,  2816.,  4214.,  5612.,  7010.,  8408.,  9806.,\n",
       "        11204., 12602., 14000.]),\n",
       " <a list of 11 Text major ticklabel objects>)"
      ]
     },
     "execution_count": 16,
     "metadata": {},
     "output_type": "execute_result"
    },
    {
     "data": {
      "image/png": "[encoded data removed]",
      "text/plain": [
       "<Figure size 432x288 with 1 Axes>"
      ]
     },
     "metadata": {
      "needs_background": "light"
     },
     "output_type": "display_data"
    }
   ],
   "source": [
    "#Checking Freq. distrubtion of Cost Data\n",
    "\n",
    "counts, bins_edges=np.histogram(ds_tr['COST'])\n",
    "ds_tr['COST'].plot(kind='hist' , xticks= bins_edges)\n",
    "plt.title(\"COST\")\n",
    "plt.xticks(rotation=90)"
   ]
  },
  {
   "cell_type": "markdown",
   "metadata": {},
   "source": [
    "we see that moslty cost of restarunt is around 20-1418"
   ]
  },
  {
   "cell_type": "code",
   "execution_count": 17,
   "metadata": {},
   "outputs": [
    {
     "data": {
      "text/plain": [
       "<matplotlib.axes._subplots.AxesSubplot at 0x246f5d8fbb0>"
      ]
     },
     "execution_count": 17,
     "metadata": {},
     "output_type": "execute_result"
    },
    {
     "data": {
      "image/png": "[encoded data removed]",
      "text/plain": [
       "<Figure size 432x288 with 1 Axes>"
      ]
     },
     "metadata": {
      "needs_background": "light"
     },
     "output_type": "display_data"
    }
   ],
   "source": [
    "#Top 10 types of restraunt\n",
    "ds1['TITLE'].value_counts()[:10].plot(kind='bar', color='black')\n"
   ]
  },
  {
   "cell_type": "markdown",
   "metadata": {},
   "source": [
    "Quick bytes types of restraunts are more"
   ]
  },
  {
   "cell_type": "code",
   "execution_count": 18,
   "metadata": {},
   "outputs": [
    {
     "data": {
      "text/plain": [
       "Text(0.5, 1.0, 'RATING')"
      ]
     },
     "execution_count": 18,
     "metadata": {},
     "output_type": "execute_result"
    },
    {
     "data": {
      "image/png": "[encoded data removed]",
      "text/plain": [
       "<Figure size 432x288 with 1 Axes>"
      ]
     },
     "metadata": {
      "needs_background": "light"
     },
     "output_type": "display_data"
    }
   ],
   "source": [
    "#Checking Freq. distrubtion of Rating Data\n",
    "\n",
    "ds_tr['RATING'].plot(kind='hist', bins=10)\n",
    "plt.title(\"RATING\")"
   ]
  },
  {
   "cell_type": "markdown",
   "metadata": {},
   "source": [
    "Most of the raiting are of range 3.7 to 4.1"
   ]
  },
  {
   "cell_type": "code",
   "execution_count": 19,
   "metadata": {},
   "outputs": [
    {
     "data": {
      "text/plain": [
       "Text(0.5, 1.0, 'RATING')"
      ]
     },
     "execution_count": 19,
     "metadata": {},
     "output_type": "execute_result"
    },
    {
     "data": {
      "image/png": "[encoded data removed]",
      "text/plain": [
       "<Figure size 432x288 with 1 Axes>"
      ]
     },
     "metadata": {
      "needs_background": "light"
     },
     "output_type": "display_data"
    }
   ],
   "source": [
    "#mean of RATING\n",
    "\n",
    "experience=ds_tr['RATING'].hist(bins=20)\n",
    "mean_exp=np.mean(ds_tr['RATING'])\n",
    "plt.axvline(mean_exp, linewidth=2, color='red', label='mean')\n",
    "plt.title(\"RATING\")"
   ]
  },
  {
   "cell_type": "markdown",
   "metadata": {},
   "source": [
    "average raiting is 3.5"
   ]
  },
  {
   "cell_type": "code",
   "execution_count": 20,
   "metadata": {},
   "outputs": [
    {
     "data": {
      "text/plain": [
       "<matplotlib.axes._subplots.AxesSubplot at 0x246f6134ca0>"
      ]
     },
     "execution_count": 20,
     "metadata": {},
     "output_type": "execute_result"
    },
    {
     "data": {
      "image/png": "[encoded data removed]",
      "text/plain": [
       "<Figure size 432x288 with 1 Axes>"
      ]
     },
     "metadata": {
      "needs_background": "light"
     },
     "output_type": "display_data"
    }
   ],
   "source": [
    "#Top 10 types of CITY\n",
    "ds1['CITY'].value_counts()[:10].plot(kind='bar', color='black')"
   ]
  },
  {
   "cell_type": "markdown",
   "metadata": {},
   "source": [
    "Chennai has most number of restraunts"
   ]
  },
  {
   "cell_type": "code",
   "execution_count": 21,
   "metadata": {},
   "outputs": [
    {
     "data": {
      "text/plain": [
       "<matplotlib.axes._subplots.AxesSubplot at 0x246f6187280>"
      ]
     },
     "execution_count": 21,
     "metadata": {},
     "output_type": "execute_result"
    },
    {
     "data": {
      "image/png": "[encoded data removed]",
      "text/plain": [
       "<Figure size 432x288 with 1 Axes>"
      ]
     },
     "metadata": {
      "needs_background": "light"
     },
     "output_type": "display_data"
    }
   ],
   "source": [
    "#Top 10 types of CUISINES\n",
    "ds1['CUISINES'].value_counts()[:10].plot(kind='bar', color='black')"
   ]
  },
  {
   "cell_type": "markdown",
   "metadata": {},
   "source": [
    "Most of the restraunts are south indian"
   ]
  },
  {
   "cell_type": "markdown",
   "metadata": {},
   "source": [
    "# Bivarent Analysis"
   ]
  },
  {
   "cell_type": "markdown",
   "metadata": {},
   "source": [
    "# EXPENSIVE"
   ]
  },
  {
   "cell_type": "markdown",
   "metadata": {},
   "source": [
    "# Cuisines"
   ]
  },
  {
   "cell_type": "code",
   "execution_count": 22,
   "metadata": {},
   "outputs": [
    {
     "name": "stdout",
     "output_type": "stream",
     "text": [
      "                                            CUISINES    COST\n",
      "0                       Italian, Mediterranean, Thai  7000.0\n",
      "1          North Indian, Continental, Pizza, Italian  6000.0\n",
      "2                     Japanese, Continental, Chinese  5500.0\n",
      "3           Japanese, Italian, North Indian, Chinese  5500.0\n",
      "4                       European, Continental, Asian  5000.0\n",
      "5                        Chinese, Seafood, Beverages  5000.0\n",
      "6  Italian, Thai, North Indian, Japanese, Mediter...  5000.0\n",
      "7             European, Italian, North Indian, Asian  5000.0\n",
      "8                     Mughlai, Biryani, North Indian  5000.0\n",
      "9       Continental, North Indian, Chinese, Bar Food  5000.0\n"
     ]
    },
    {
     "data": {
      "text/plain": [
       "(array([0, 1, 2, 3, 4, 5, 6, 7, 8, 9]),\n",
       " <a list of 10 Text major ticklabel objects>)"
      ]
     },
     "execution_count": 22,
     "metadata": {},
     "output_type": "execute_result"
    },
    {
     "data": {
      "image/png": "[encoded data removed]",
      "text/plain": [
       "<Figure size 720x360 with 1 Axes>"
      ]
     },
     "metadata": {
      "needs_background": "light"
     },
     "output_type": "display_data"
    }
   ],
   "source": [
    "#Making dataset of cost of top 10 cuisines\n",
    "t1=pd.pivot_table(ds1, values=[\"COST\"], index=['CUISINES']).sort_values(by='COST', ascending=False)\n",
    "t1=t1.head(10)\n",
    "t1.reset_index(inplace=True)\n",
    "print(t1)\n",
    "\n",
    "#Plotting bar Graph to compare COST of different CUISINES\n",
    "plt.figure(figsize=(10,5))\n",
    "sns.barplot(x='CUISINES', y='COST', data=t1, palette=\"Blues_d\")\n",
    "plt.xticks(rotation=90)"
   ]
  },
  {
   "cell_type": "markdown",
   "metadata": {},
   "source": [
    "# Cities"
   ]
  },
  {
   "cell_type": "code",
   "execution_count": 23,
   "metadata": {},
   "outputs": [
    {
     "name": "stdout",
     "output_type": "stream",
     "text": [
      "                      CITY         COST\n",
      "0                Banglaore  3000.000000\n",
      "1  Chennai Thousand Lights  2500.000000\n",
      "2            Kerala 682304  2200.000000\n",
      "3        Chennai Teynampet  2166.666667\n",
      "4   Malleshwaram Bangalore  2000.000000\n",
      "5                    Ulsoo  2000.000000\n",
      "6    Chennai Mahabalipuram  1850.000000\n",
      "7                  Gurgoan  1800.000000\n",
      "8              Khar (west)  1700.000000\n",
      "9              navi mumbai  1600.000000\n"
     ]
    },
    {
     "data": {
      "text/plain": [
       "(array([0, 1, 2, 3, 4, 5, 6, 7, 8, 9]),\n",
       " <a list of 10 Text major ticklabel objects>)"
      ]
     },
     "execution_count": 23,
     "metadata": {},
     "output_type": "execute_result"
    },
    {
     "data": {
      "image/png": "[encoded data removed]",
      "text/plain": [
       "<Figure size 720x360 with 1 Axes>"
      ]
     },
     "metadata": {
      "needs_background": "light"
     },
     "output_type": "display_data"
    }
   ],
   "source": [
    "#Making dataset of cost of top 10 CITY\n",
    "t1=pd.pivot_table(ds_vs, values=[\"COST\",], index=['CITY']).sort_values(by='COST', ascending=False)\n",
    "t1=t1.head(10)\n",
    "t1.reset_index(inplace=True)\n",
    "print(t1)\n",
    "\n",
    "#Plotting bar Graph to compare COST of different CITY\n",
    "plt.figure(figsize=(10,5))\n",
    "sns.barplot(x='CITY', y='COST', data=t1, palette=\"Blues_d\")\n",
    "plt.xticks(rotation=90)"
   ]
  },
  {
   "cell_type": "markdown",
   "metadata": {},
   "source": [
    "# Locality"
   ]
  },
  {
   "cell_type": "code",
   "execution_count": 24,
   "metadata": {},
   "outputs": [
    {
     "name": "stdout",
     "output_type": "stream",
     "text": [
      "                      LOCALITY         COST\n",
      "0      Bandra Reclamation Dock  5000.000000\n",
      "1       Dr. Zakir Hussain Marg  5000.000000\n",
      "2                Mansingh Road  5000.000000\n",
      "3           Bhikaji Cama Place  4500.000000\n",
      "4               Aurangzeb Road  4500.000000\n",
      "5  Mumbai Bandra Kurla Complex  3800.000000\n",
      "6                  Sankey Road  3500.000000\n",
      "7                   Lodhi Road  3333.333333\n",
      "8        Opposite Inorbit Mall  3000.000000\n",
      "9     Qutab Institutional Area  3000.000000\n"
     ]
    },
    {
     "data": {
      "text/plain": [
       "(array([0, 1, 2, 3, 4, 5, 6, 7, 8, 9]),\n",
       " <a list of 10 Text major ticklabel objects>)"
      ]
     },
     "execution_count": 24,
     "metadata": {},
     "output_type": "execute_result"
    },
    {
     "data": {
      "image/png": "[encoded data removed]",
      "text/plain": [
       "<Figure size 720x360 with 1 Axes>"
      ]
     },
     "metadata": {
      "needs_background": "light"
     },
     "output_type": "display_data"
    }
   ],
   "source": [
    "#Making dataset of cost of top 10 Locality\n",
    "t1=pd.pivot_table(ds_vs, values=[\"COST\",], index=['LOCALITY']).sort_values(by='COST', ascending=False)\n",
    "t1=t1.head(10)\n",
    "t1.reset_index(inplace=True)\n",
    "print(t1)\n",
    "\n",
    "#Plotting bar Graph to compare COST of different Locality\n",
    "plt.figure(figsize=(10,5))\n",
    "sns.barplot(x='LOCALITY', y='COST', data=t1, palette=\"Blues_d\")\n",
    "plt.xticks(rotation=90)"
   ]
  },
  {
   "cell_type": "markdown",
   "metadata": {},
   "source": [
    "# RATING"
   ]
  },
  {
   "cell_type": "markdown",
   "metadata": {},
   "source": [
    "# City"
   ]
  },
  {
   "cell_type": "code",
   "execution_count": 25,
   "metadata": {},
   "outputs": [
    {
     "name": "stdout",
     "output_type": "stream",
     "text": [
      "                                  CITY  RATING\n",
      "0               Malleshwaram Bangalore     4.9\n",
      "1          opp mukteshwar ashram powai     4.7\n",
      "2                              chennai     4.7\n",
      "3                          Hitech City     4.6\n",
      "4                      Chennai 600034.     4.6\n",
      "5            Beside Excellency Gardens     4.6\n",
      "6      Bangalore Koramangala 7th Block     4.5\n",
      "7               Dist. Center New Delhi     4.5\n",
      "8  Chennai (Bang Opposite Indian Bank)     4.5\n",
      "9                  Andheri west Mumbai     4.5\n"
     ]
    },
    {
     "data": {
      "text/plain": [
       "(array([0, 1, 2, 3, 4, 5, 6, 7, 8, 9]),\n",
       " <a list of 10 Text major ticklabel objects>)"
      ]
     },
     "execution_count": 25,
     "metadata": {},
     "output_type": "execute_result"
    },
    {
     "data": {
      "image/png": "[encoded data removed]",
      "text/plain": [
       "<Figure size 720x360 with 1 Axes>"
      ]
     },
     "metadata": {
      "needs_background": "light"
     },
     "output_type": "display_data"
    }
   ],
   "source": [
    "#Making dataset of cost of top 10 rated city\n",
    "t1=pd.pivot_table(ds_vs, values=[\"RATING\",], index=['CITY']).sort_values(by='RATING', ascending=False)\n",
    "t1=t1.head(10)\n",
    "t1.reset_index(inplace=True)\n",
    "print(t1)\n",
    "\n",
    "#Plotting bar Graph to compare rating of different CITY\n",
    "plt.figure(figsize=(10,5))\n",
    "sns.barplot(x='CITY', y='RATING', data=t1, palette=\"summer\")\n",
    "plt.xticks(rotation=90)"
   ]
  },
  {
   "cell_type": "markdown",
   "metadata": {},
   "source": [
    "# Cuisines"
   ]
  },
  {
   "cell_type": "code",
   "execution_count": 26,
   "metadata": {},
   "outputs": [
    {
     "name": "stdout",
     "output_type": "stream",
     "text": [
      "                                            CUISINES  RATING\n",
      "0  Seafood, Chinese, North Indian, Pizza, Contine...     4.9\n",
      "1  Continental, North Indian, Italian, South Indi...     4.9\n",
      "2         BBQ, North Indian, European, Mediterranean     4.9\n",
      "3       Egyptian, Turkish, Lebanese, Moroccan, Greek     4.9\n",
      "4         European, Mediterranean, North Indian, BBQ     4.9\n",
      "5  North Indian, Fast Food, Italian, Asian, Conti...     4.9\n",
      "6  Modern Indian, North Indian, Chinese, Momos, B...     4.9\n",
      "7                                Fast Food, Bar Food     4.9\n",
      "8   North Indian, Mediterranean, Asian, Arabian, BBQ     4.9\n",
      "9  Continental, Mediterranean, Modern Indian, Mex...     4.8\n"
     ]
    },
    {
     "data": {
      "text/plain": [
       "(array([0, 1, 2, 3, 4, 5, 6, 7, 8, 9]),\n",
       " <a list of 10 Text major ticklabel objects>)"
      ]
     },
     "execution_count": 26,
     "metadata": {},
     "output_type": "execute_result"
    },
    {
     "data": {
      "image/png": "[encoded data removed]",
      "text/plain": [
       "<Figure size 720x360 with 1 Axes>"
      ]
     },
     "metadata": {
      "needs_background": "light"
     },
     "output_type": "display_data"
    }
   ],
   "source": [
    "#Making dataset of cost of top 10 rated cuisines\n",
    "t1=pd.pivot_table(ds_vs, values=[\"RATING\",], index=['CUISINES']).sort_values(by='RATING', ascending=False)\n",
    "t1=t1.head(10)\n",
    "t1.reset_index(inplace=True)\n",
    "print(t1)\n",
    "\n",
    "#Plotting bar Graph to compare rating of different cuisines\n",
    "plt.figure(figsize=(10,5))\n",
    "sns.barplot(x='CUISINES', y='RATING', data=t1, palette=\"summer\")\n",
    "plt.xticks(rotation=90)"
   ]
  },
  {
   "cell_type": "markdown",
   "metadata": {},
   "source": [
    "# Locality"
   ]
  },
  {
   "cell_type": "code",
   "execution_count": 27,
   "metadata": {},
   "outputs": [
    {
     "name": "stdout",
     "output_type": "stream",
     "text": [
      "                      LOCALITY  RATING\n",
      "0       Brigade Gateway Campus    4.90\n",
      "1            Near Basavanagudi    4.90\n",
      "2                 nungambakkam    4.70\n",
      "3        2nd Floor DLF Phase 3    4.70\n",
      "4                    Shop no 3    4.70\n",
      "5            Mind Space Centre    4.65\n",
      "6         Off Race Course Road    4.60\n",
      "7           North NCL Kompally    4.60\n",
      "8  ITPL Main Road & Whitefield    4.50\n",
      "9         Opposite Ansal Plaza    4.50\n"
     ]
    },
    {
     "data": {
      "text/plain": [
       "(array([0, 1, 2, 3, 4, 5, 6, 7, 8, 9]),\n",
       " <a list of 10 Text major ticklabel objects>)"
      ]
     },
     "execution_count": 27,
     "metadata": {},
     "output_type": "execute_result"
    },
    {
     "data": {
      "image/png": "[encoded data removed]",
      "text/plain": [
       "<Figure size 720x360 with 1 Axes>"
      ]
     },
     "metadata": {
      "needs_background": "light"
     },
     "output_type": "display_data"
    }
   ],
   "source": [
    "#Making dataset of cost of top 10 rated locality\n",
    "t1=pd.pivot_table(ds_vs, values=[\"RATING\",], index=['LOCALITY']).sort_values(by='RATING', ascending=False)\n",
    "t1=t1.head(10)\n",
    "t1.reset_index(inplace=True)\n",
    "print(t1)\n",
    "\n",
    "#Plotting bar Graph to compare rating of different locality\n",
    "plt.figure(figsize=(10,5))\n",
    "sns.barplot(x='LOCALITY', y='RATING', data=t1, palette=\"summer\")\n",
    "plt.xticks(rotation=90)"
   ]
  },
  {
   "cell_type": "code",
   "execution_count": 28,
   "metadata": {},
   "outputs": [
    {
     "data": {
      "text/plain": [
       "<matplotlib.axes._subplots.AxesSubplot at 0x246f540e0a0>"
      ]
     },
     "execution_count": 28,
     "metadata": {},
     "output_type": "execute_result"
    },
    {
     "data": {
      "image/png": "[encoded data removed]",
      "text/plain": [
       "<Figure size 432x288 with 1 Axes>"
      ]
     },
     "metadata": {
      "needs_background": "light"
     },
     "output_type": "display_data"
    }
   ],
   "source": [
    "#Line Plot between cost and rating\n",
    "sns.lineplot(x='RATING', y='COST', data=ds_tr)"
   ]
  },
  {
   "cell_type": "markdown",
   "metadata": {},
   "source": [
    "we see that top rated restraunt are most expensive"
   ]
  },
  {
   "cell_type": "markdown",
   "metadata": {},
   "source": [
    "# Correlation"
   ]
  },
  {
   "cell_type": "code",
   "execution_count": 29,
   "metadata": {},
   "outputs": [
    {
     "data": {
      "text/plain": [
       "<matplotlib.axes._subplots.AxesSubplot at 0x246f5627a30>"
      ]
     },
     "execution_count": 29,
     "metadata": {},
     "output_type": "execute_result"
    },
    {
     "data": {
      "image/png": "[encoded data removed]",
      "text/plain": [
       "<Figure size 720x360 with 2 Axes>"
      ]
     },
     "metadata": {
      "needs_background": "light"
     },
     "output_type": "display_data"
    }
   ],
   "source": [
    "#Correlation Heatmap\n",
    "plt.figure(figsize=(10,5))\n",
    "sns.heatmap(ds_tr.corr(), annot=True, linewidths=0.5,linecolor=\"black\", fmt= '.0%')"
   ]
  },
  {
   "cell_type": "markdown",
   "metadata": {},
   "source": [
    "Raitings and Votes both have low correlation"
   ]
  },
  {
   "cell_type": "markdown",
   "metadata": {},
   "source": [
    "# Missing Values"
   ]
  },
  {
   "cell_type": "code",
   "execution_count": 30,
   "metadata": {},
   "outputs": [
    {
     "name": "stdout",
     "output_type": "stream",
     "text": [
      "Train\n",
      "TIME          0\n",
      "CITY        112\n",
      "LOCALITY     98\n",
      "RATING        2\n",
      "VOTES         0\n",
      "COST          0\n",
      "CUISINE1      0\n",
      "CUISINE2      0\n",
      "CUISINE3      0\n",
      "CUISINE4      0\n",
      "CUISINE5      0\n",
      "CUISINE6      0\n",
      "CUISINE7      0\n",
      "CUISINE8      0\n",
      "TITLE1        0\n",
      "TITLE2        0\n",
      "dtype: int64\n",
      "\n",
      "Test\n",
      "TIME         0\n",
      "CITY        35\n",
      "LOCALITY    30\n",
      "RATING       2\n",
      "VOTES        0\n",
      "CUISINE1     0\n",
      "CUISINE2     0\n",
      "CUISINE3     0\n",
      "CUISINE4     0\n",
      "CUISINE5     0\n",
      "CUISINE6     0\n",
      "CUISINE7     0\n",
      "CUISINE8     0\n",
      "TITLE1       0\n",
      "TITLE2       0\n",
      "dtype: int64\n"
     ]
    }
   ],
   "source": [
    "#Checking Null Values\n",
    "\n",
    "#Train Data\n",
    "print('Train')\n",
    "print(ds_tr.isnull().sum())\n",
    "print()\n",
    "\n",
    "#Test Data\n",
    "print('Test')\n",
    "print(ds_te.isnull().sum())"
   ]
  },
  {
   "cell_type": "code",
   "execution_count": 31,
   "metadata": {},
   "outputs": [],
   "source": [
    "#Replacing NaN with Unknown and mean\n",
    "#Train\n",
    "ds_tr['CITY'].fillna(\"Unknown\",inplace=True)\n",
    "ds_tr['LOCALITY'].fillna(\"Unknown\",inplace=True)\n",
    "ds_tr['RATING'] = ds_tr.RATING.fillna(ds_tr.RATING.mean())\n",
    "#Test\n",
    "ds_te['CITY'].fillna(\"Unknown\",inplace=True)\n",
    "ds_te['LOCALITY'].fillna(\"Unknown\",inplace=True)\n",
    "ds_te['RATING'] = ds_te.RATING.fillna(ds_te.RATING.mean())"
   ]
  },
  {
   "cell_type": "markdown",
   "metadata": {},
   "source": [
    "# Outliers"
   ]
  },
  {
   "cell_type": "code",
   "execution_count": 32,
   "metadata": {},
   "outputs": [
    {
     "data": {
      "text/plain": [
       "RATING       AxesSubplot(0.125,0.536818;0.133621x0.343182)\n",
       "VOTES     AxesSubplot(0.285345,0.536818;0.133621x0.343182)\n",
       "dtype: object"
      ]
     },
     "execution_count": 32,
     "metadata": {},
     "output_type": "execute_result"
    },
    {
     "data": {
      "text/plain": [
       "<Figure size 864x432 with 0 Axes>"
      ]
     },
     "metadata": {},
     "output_type": "display_data"
    },
    {
     "data": {
      "image/png": "[encoded data removed]",
      "text/plain": [
       "<Figure size 432x288 with 3 Axes>"
      ]
     },
     "metadata": {
      "needs_background": "light"
     },
     "output_type": "display_data"
    },
    {
     "data": {
      "text/plain": [
       "<Figure size 864x432 with 0 Axes>"
      ]
     },
     "metadata": {},
     "output_type": "display_data"
    },
    {
     "data": {
      "image/png": "[encoded data removed]",
      "text/plain": [
       "<Figure size 432x288 with 10 Axes>"
      ]
     },
     "metadata": {
      "needs_background": "light"
     },
     "output_type": "display_data"
    }
   ],
   "source": [
    "#Plotting Boxplot to see Outliers\n",
    "\n",
    "#Training Datasets\n",
    "plt.figure(figsize=(12,6))\n",
    "ds_tr.plot(kind='box', subplots=True)\n",
    "\n",
    "#Testing Datasets\n",
    "plt.figure(figsize=(12,6))\n",
    "ds_te.plot(kind='box', subplots=True, layout=(2,5))"
   ]
  },
  {
   "cell_type": "markdown",
   "metadata": {},
   "source": [
    "we see outliers in both votes and cost but outliers in raitng are not outliers they are zero value which we intentionally put while removing NaN values\n",
    "\n",
    "and as cost is our target variable so we are not going to touch that \n",
    "\n",
    "so we only going to treat votes outliers"
   ]
  },
  {
   "cell_type": "code",
   "execution_count": 33,
   "metadata": {},
   "outputs": [
    {
     "name": "stdout",
     "output_type": "stream",
     "text": [
      "(array([  186,   196,   293,   303,   304,   344,   354,   431,   510,\n",
      "         775,   796,   852,   855,   872,   913,  1034,  1038,  1132,\n",
      "        1147,  1151,  1244,  1346,  1467,  1476,  1522,  1540,  1617,\n",
      "        1681,  1685,  1850,  2090,  2204,  2268,  2302,  2305,  2886,\n",
      "        2905,  2977,  3028,  3033,  3289,  3333,  3398,  3408,  3507,\n",
      "        3578,  3587,  3706,  3728,  3841,  3855,  3877,  3909,  3952,\n",
      "        3974,  3987,  4124,  4150,  4192,  4193,  4268,  4367,  4470,\n",
      "        4512,  4557,  4578,  4592,  4618,  4628,  4634,  4647,  4658,\n",
      "        4691,  4709,  4760,  4768,  4855,  4947,  4987,  5078,  5140,\n",
      "        5257,  5375,  5492,  5502,  5594,  5629,  5662,  5774,  5792,\n",
      "        5836,  5880,  5897,  5969,  5996,  6005,  6142,  6390,  6421,\n",
      "        6446,  6448,  6472,  6496,  6506,  6519,  6608,  6649,  6684,\n",
      "        6690,  6714,  6760,  6878,  6922,  6982,  7028,  7034,  7059,\n",
      "        7189,  7202,  7262,  7459,  7494,  7626,  7988,  7997,  8009,\n",
      "        8123,  8400,  8448,  8459,  8509,  8510,  8578,  8630,  8674,\n",
      "        8797,  8925,  9017,  9022,  9124,  9200,  9227,  9281,  9300,\n",
      "        9546,  9552,  9577,  9616,  9702,  9783,  9809,  9876,  9878,\n",
      "        9941, 10065, 10168, 10219, 10221, 10266, 10365, 10380, 10465,\n",
      "       10480, 10538, 10568, 10628, 10629, 10727, 10736, 10863, 10868,\n",
      "       10895, 10898, 11021, 11073, 11125, 11170, 11179, 11197, 11216,\n",
      "       11295, 11373, 11410, 11441, 11657, 11786, 11861, 11904, 11954,\n",
      "       12021, 12050, 12083, 12120, 12138, 12143, 12196, 12236, 12271,\n",
      "       12338, 12360, 12506, 12628], dtype=int64), array([0, 0, 0, 0, 0, 0, 0, 0, 0, 0, 0, 0, 0, 0, 0, 0, 0, 0, 0, 0, 0, 0,\n",
      "       0, 0, 0, 0, 0, 0, 0, 0, 0, 0, 0, 0, 0, 0, 0, 0, 0, 0, 0, 0, 0, 0,\n",
      "       0, 0, 0, 0, 0, 0, 0, 0, 0, 0, 0, 0, 0, 0, 0, 0, 0, 0, 0, 0, 0, 0,\n",
      "       0, 0, 0, 0, 0, 0, 0, 0, 0, 0, 0, 0, 0, 0, 0, 0, 0, 0, 0, 0, 0, 0,\n",
      "       0, 0, 0, 0, 0, 0, 0, 0, 0, 0, 0, 0, 0, 0, 0, 0, 0, 0, 0, 0, 0, 0,\n",
      "       0, 0, 0, 0, 0, 0, 0, 0, 0, 0, 0, 0, 0, 0, 0, 0, 0, 0, 0, 0, 0, 0,\n",
      "       0, 0, 0, 0, 0, 0, 0, 0, 0, 0, 0, 0, 0, 0, 0, 0, 0, 0, 0, 0, 0, 0,\n",
      "       0, 0, 0, 0, 0, 0, 0, 0, 0, 0, 0, 0, 0, 0, 0, 0, 0, 0, 0, 0, 0, 0,\n",
      "       0, 0, 0, 0, 0, 0, 0, 0, 0, 0, 0, 0, 0, 0, 0, 0, 0, 0, 0, 0, 0, 0,\n",
      "       0, 0, 0, 0], dtype=int64))\n"
     ]
    }
   ],
   "source": [
    "#importing Zscore Library\n",
    "from scipy import stats\n",
    "from scipy.stats import zscore\n",
    "\n",
    "#Applying Zscore to the columns with outliers\n",
    "l1=['VOTES']\n",
    "z=abs(zscore(ds_tr[l1]))\n",
    "\n",
    "#printing all the data with zscore is greater than 3\n",
    "print(np.where(z>3))\n",
    "\n",
    "#removing all the rows having zscore greater than 3\n",
    "ds_tr=ds_tr[(z<3).all(axis=1)]"
   ]
  },
  {
   "cell_type": "markdown",
   "metadata": {},
   "source": [
    "# Skewness"
   ]
  },
  {
   "cell_type": "code",
   "execution_count": 34,
   "metadata": {},
   "outputs": [
    {
     "name": "stdout",
     "output_type": "stream",
     "text": [
      "Train\n",
      "RATING   -2.205024\n",
      "VOTES     2.548633\n",
      "COST      4.098555\n",
      "dtype: float64\n",
      "\n"
     ]
    }
   ],
   "source": [
    "#Checking Skewness\n",
    "\n",
    "print('Train')\n",
    "print(ds_tr.skew())\n",
    "print()"
   ]
  },
  {
   "cell_type": "code",
   "execution_count": 35,
   "metadata": {},
   "outputs": [],
   "source": [
    "#removing Skewness\n",
    "\n",
    "#Training dataset\n",
    "ds_tr['RATING']=np.sqrt(ds_tr['RATING'])\n",
    "ds_tr['VOTES']=np.sqrt(ds_tr['VOTES'])"
   ]
  },
  {
   "cell_type": "markdown",
   "metadata": {},
   "source": [
    "# Model Building"
   ]
  },
  {
   "cell_type": "markdown",
   "metadata": {},
   "source": [
    "# Data Featuring"
   ]
  },
  {
   "cell_type": "code",
   "execution_count": 36,
   "metadata": {},
   "outputs": [],
   "source": [
    "#Encoding columns with catagorical data\n",
    "\n",
    "from sklearn.preprocessing import LabelEncoder\n",
    "\n",
    "le = LabelEncoder()\n",
    "Label = ['TIME','CITY','LOCALITY', 'CUISINE1', 'CUISINE2', 'CUISINE3', 'CUISINE4', 'CUISINE5', 'CUISINE6', 'CUISINE7',\n",
    "       'CUISINE8', 'TITLE1', 'TITLE2']\n",
    "\n",
    "for i in Label:\n",
    "    ds_tr[i] = le.fit_transform(ds_tr[i])\n",
    "    ds_te[i] = le.fit_transform(ds_te[i])"
   ]
  },
  {
   "cell_type": "markdown",
   "metadata": {},
   "source": [
    "# Standard Scaling"
   ]
  },
  {
   "cell_type": "code",
   "execution_count": 37,
   "metadata": {},
   "outputs": [],
   "source": [
    "#Normalising\n",
    "from sklearn.preprocessing import StandardScaler\n",
    "\n",
    "#Making X and Y variables\n",
    "x=ds_tr.drop('COST', axis=1)\n",
    "y=ds_tr['COST']\n",
    "\n",
    "#Standard Scaling\n",
    "sc=StandardScaler()\n",
    "x=sc.fit_transform(x)"
   ]
  },
  {
   "cell_type": "raw",
   "metadata": {},
   "source": [
    "By looking at the target variable we see that this is a Regression Problem"
   ]
  },
  {
   "cell_type": "code",
   "execution_count": 38,
   "metadata": {},
   "outputs": [],
   "source": [
    "#ML Models\n",
    "from sklearn.linear_model import LinearRegression, Lasso, Ridge, ElasticNet\n",
    "from sklearn.svm import SVR\n",
    "from sklearn.tree import DecisionTreeRegressor\n",
    "from sklearn.neighbors import KNeighborsRegressor\n",
    "\n",
    "#model selection\n",
    "from sklearn.model_selection import train_test_split, GridSearchCV\n",
    "\n",
    "#metrics\n",
    "from sklearn.metrics import r2_score,mean_absolute_error,mean_squared_error"
   ]
  },
  {
   "cell_type": "code",
   "execution_count": 39,
   "metadata": {},
   "outputs": [
    {
     "name": "stdout",
     "output_type": "stream",
     "text": [
      "LinearRegression()\n",
      "0.2119830770011788\n",
      "R2 Score\n",
      "0.22480064173388303\n",
      "MAE\n",
      "309.72650416929366\n",
      "MSE\n",
      "288544.08393528766\n",
      "\n",
      "..................................................................................................................\n",
      "SVR()\n",
      "0.0725848035443426\n",
      "R2 Score\n",
      "0.07393778517851701\n",
      "MAE\n",
      "300.85348767010015\n",
      "MSE\n",
      "344698.1355098315\n",
      "\n",
      "..................................................................................................................\n",
      "DecisionTreeRegressor()\n",
      "0.9999891011456977\n",
      "R2 Score\n",
      "0.4244689759994654\n",
      "MAE\n",
      "256.4523618895116\n",
      "MSE\n",
      "214223.6965572458\n",
      "\n",
      "..................................................................................................................\n",
      "KNeighborsRegressor()\n",
      "0.5698753380002191\n",
      "R2 Score\n",
      "0.36180766376535833\n",
      "MAE\n",
      "267.71537229783826\n",
      "MSE\n",
      "237547.43998398716\n",
      "\n",
      "..................................................................................................................\n",
      "Lasso()\n",
      "0.21194920945821238\n",
      "R2 Score\n",
      "0.2245488095552105\n",
      "MAE\n",
      "309.4615174341616\n",
      "MSE\n",
      "288637.8207070299\n",
      "\n",
      "..................................................................................................................\n",
      "Ridge()\n",
      "0.21198307558495533\n",
      "R2 Score\n",
      "0.2248009356336318\n",
      "MAE\n",
      "309.72600372435795\n",
      "MSE\n",
      "288543.9745401587\n",
      "\n",
      "..................................................................................................................\n",
      "ElasticNet()\n",
      "0.1969212865925558\n",
      "R2 Score\n",
      "0.20867218280973654\n",
      "MAE\n",
      "316.5754914247566\n",
      "MSE\n",
      "294547.40599164856\n",
      "\n",
      "..................................................................................................................\n"
     ]
    }
   ],
   "source": [
    "#testing Different Models\n",
    "model=[LinearRegression(),SVR(), DecisionTreeRegressor(), KNeighborsRegressor(),Lasso(), Ridge(), ElasticNet()]\n",
    "\n",
    "x_train,x_test,y_train,y_test=train_test_split(x, y, random_state=42, test_size=0.20)\n",
    "\n",
    "for i in model:\n",
    "    i.fit(x_train,y_train)\n",
    "    pred=i.predict(x_test)\n",
    "    print(i)\n",
    "    print(i.score(x_train,y_train))\n",
    "    print('R2 Score')\n",
    "    print(r2_score(y_test,pred))\n",
    "    print('MAE')\n",
    "    print(mean_absolute_error(y_test,pred))\n",
    "    print('MSE')\n",
    "    print(mean_squared_error(y_test,pred))\n",
    "    print()\n",
    "    print('..................................................................................................................')"
   ]
  },
  {
   "cell_type": "markdown",
   "metadata": {},
   "source": [
    "As our preferd metrix is R2 Score and minimum errors,as we see Decision Tree has the best R2 score as well as model score also good so we proceed with Decision Tree"
   ]
  },
  {
   "cell_type": "code",
   "execution_count": 40,
   "metadata": {},
   "outputs": [
    {
     "name": "stdout",
     "output_type": "stream",
     "text": [
      "{'criterion': 'mse'}\n"
     ]
    }
   ],
   "source": [
    "#Grid Search \n",
    "dtc_para= {'criterion': ['mse', 'friedman_mse', 'mae', 'poisson']}\n",
    "\n",
    "dtcgd=GridSearchCV( estimator=DecisionTreeRegressor() ,param_grid=dtc_para ,cv=5)\n",
    "dtcgd.fit(x,y)\n",
    "best_para=dtcgd.best_params_\n",
    "\n",
    "print(best_para)"
   ]
  },
  {
   "cell_type": "code",
   "execution_count": 41,
   "metadata": {},
   "outputs": [
    {
     "name": "stdout",
     "output_type": "stream",
     "text": [
      "max r2 score corrosponding to 19 is 0.5906448334850476\n"
     ]
    }
   ],
   "source": [
    "dtc=DecisionTreeRegressor(criterion= 'friedman_mse')\n",
    "max_score=0\n",
    "for i in range(1,100):\n",
    "    x_train,x_test,y_train,y_test=train_test_split(x,y, random_state=i, test_size=0.20)\n",
    "    dtc.fit(x_train,y_train)\n",
    "    pred=dtc.predict(x_test)\n",
    "    r2=r2_score(y_test,pred)\n",
    "    if r2>max_score:\n",
    "        max_score=r2\n",
    "        final=i\n",
    "print('max r2 score corrosponding to' ,final ,'is', max_score)"
   ]
  },
  {
   "cell_type": "code",
   "execution_count": 42,
   "metadata": {},
   "outputs": [
    {
     "name": "stdout",
     "output_type": "stream",
     "text": [
      "0.9999896735920456\n",
      "R2 Score\n",
      "0.5540794847264662\n",
      "MAE\n",
      "246.81184947958366\n",
      "MSE\n",
      "170610.53883106486\n",
      "\n"
     ]
    }
   ],
   "source": [
    "#Calling Model\n",
    "dtc=DecisionTreeRegressor(criterion= 'friedman_mse')\n",
    "\n",
    "#Train Test Split\n",
    "x_train,x_test,y_train,y_test=train_test_split(x, y, random_state=66, test_size=0.20)\n",
    "\n",
    "#fitting Train data in model\n",
    "dtc.fit(x_train,y_train)\n",
    "\n",
    "#Predecting Values\n",
    "pred=dtc.predict(x_test)\n",
    "\n",
    "#printing Matrics\n",
    "print(dtc.score(x_train,y_train))\n",
    "print('R2 Score')\n",
    "print(r2_score(y_test,pred))\n",
    "print('MAE')\n",
    "print(mean_absolute_error(y_test,pred))\n",
    "print('MSE')\n",
    "print(mean_squared_error(y_test,pred))\n",
    "print()"
   ]
  },
  {
   "cell_type": "markdown",
   "metadata": {},
   "source": [
    "# Ensembel Technique"
   ]
  },
  {
   "cell_type": "code",
   "execution_count": 43,
   "metadata": {},
   "outputs": [],
   "source": [
    "# Imporing ML Models\n",
    "from sklearn.ensemble import RandomForestRegressor, AdaBoostRegressor , GradientBoostingRegressor, BaggingRegressor, ExtraTreesRegressor\n"
   ]
  },
  {
   "cell_type": "code",
   "execution_count": 44,
   "metadata": {},
   "outputs": [
    {
     "name": "stdout",
     "output_type": "stream",
     "text": [
      "RandomForestRegressor()\n",
      "0.9599683662160184\n",
      "R2 Score\n",
      "0.7180706817108788\n",
      "MAE\n",
      "187.75536391017576\n",
      "MSE\n",
      "104939.50493223763\n",
      "\n",
      "..................................................................................................................\n",
      "AdaBoostRegressor()\n",
      "-0.028925588519721268\n",
      "R2 Score\n",
      "-0.1016203772857307\n",
      "MAE\n",
      "533.3255938790568\n",
      "MSE\n",
      "410044.2540604341\n",
      "\n",
      "..................................................................................................................\n",
      "GradientBoostingRegressor()\n",
      "0.7156724317804415\n",
      "R2 Score\n",
      "0.7175152140312558\n",
      "MAE\n",
      "196.18578503143624\n",
      "MSE\n",
      "105146.26066682821\n",
      "\n",
      "..................................................................................................................\n",
      "BaggingRegressor()\n",
      "0.9377718479271181\n",
      "R2 Score\n",
      "0.7091601865713786\n",
      "MAE\n",
      "195.66353082465972\n",
      "MSE\n",
      "108256.16229272306\n",
      "\n",
      "..................................................................................................................\n",
      "ExtraTreesRegressor()\n",
      "0.9999886985291976\n",
      "R2 Score\n",
      "0.7378661369597659\n",
      "MAE\n",
      "187.45580864691752\n",
      "MSE\n",
      "97571.25644239392\n",
      "\n",
      "..................................................................................................................\n"
     ]
    }
   ],
   "source": [
    "#testing Different Models\n",
    "model=[RandomForestRegressor(),AdaBoostRegressor(), GradientBoostingRegressor(), BaggingRegressor(),ExtraTreesRegressor()]\n",
    "\n",
    "x_train,x_test,y_train,y_test=train_test_split(x, y, random_state=42, test_size=0.20)\n",
    "\n",
    "for i in model:\n",
    "    i.fit(x_train,y_train)\n",
    "    pred=i.predict(x_test)\n",
    "    print(i)\n",
    "    print(i.score(x_train,y_train))\n",
    "    print('R2 Score')\n",
    "    print(r2_score(y_test,pred))\n",
    "    print('MAE')\n",
    "    print(mean_absolute_error(y_test,pred))\n",
    "    print('MSE')\n",
    "    print(mean_squared_error(y_test,pred))\n",
    "    print()\n",
    "    print('..................................................................................................................')"
   ]
  },
  {
   "cell_type": "code",
   "execution_count": 45,
   "metadata": {},
   "outputs": [
    {
     "name": "stdout",
     "output_type": "stream",
     "text": [
      "{'criterion': 'mse'}\n"
     ]
    }
   ],
   "source": [
    "#Grid Search \n",
    "para= {'criterion': ['mse', 'mae'] }\n",
    "\n",
    "gd=GridSearchCV( estimator=ExtraTreesRegressor() ,param_grid=para ,cv=5)\n",
    "gd.fit(x,y)\n",
    "best_para= gd.best_params_\n",
    "print(best_para)"
   ]
  },
  {
   "cell_type": "code",
   "execution_count": 46,
   "metadata": {},
   "outputs": [
    {
     "name": "stdout",
     "output_type": "stream",
     "text": [
      "max r2 score corrosponding to 85 is 0.7675400398629023\n"
     ]
    }
   ],
   "source": [
    "#Checking best random score\n",
    "et=ExtraTreesRegressor(criterion = 'mse', n_estimators=100)\n",
    "max_score=0\n",
    "for i in range(1,100):\n",
    "    x_train,x_test,y_train,y_test=train_test_split(x,y, random_state=i, test_size=0.20)\n",
    "    et.fit(x_train,y_train)\n",
    "    pred=et.predict(x_test)\n",
    "    r2=r2_score(y_test,pred)\n",
    "    if r2>max_score:\n",
    "        max_score=r2\n",
    "        final=i\n",
    "print('max r2 score corrosponding to' ,final ,'is', max_score)"
   ]
  },
  {
   "cell_type": "code",
   "execution_count": 49,
   "metadata": {},
   "outputs": [
    {
     "name": "stdout",
     "output_type": "stream",
     "text": [
      "0.9999847115360958\n",
      "R2 Score\n",
      "0.7746189397469303\n",
      "MAE\n",
      "179.78191980250867\n",
      "MSE\n",
      "84433.18985722717\n",
      "\n"
     ]
    }
   ],
   "source": [
    "#Calling Model\n",
    "et=ExtraTreesRegressor(criterion = 'mse', n_estimators=1000)\n",
    "\n",
    "#Train Test Split\n",
    "x_train,x_test,y_train,y_test=train_test_split(x, y, random_state=85, test_size=0.20)\n",
    "\n",
    "#fitting Train data in model\n",
    "et.fit(x_train,y_train)\n",
    "\n",
    "#Predecting Values\n",
    "pred=et.predict(x_test)\n",
    "\n",
    "#printing Matrics\n",
    "print(et.score(x_train,y_train))\n",
    "print('R2 Score')\n",
    "print(r2_score(y_test,pred))\n",
    "print('MAE')\n",
    "print(mean_absolute_error(y_test,pred))\n",
    "print('MSE')\n",
    "print(mean_squared_error(y_test,pred))\n",
    "print()"
   ]
  },
  {
   "cell_type": "code",
   "execution_count": 48,
   "metadata": {},
   "outputs": [
    {
     "data": {
      "text/plain": [
       "0.7139984861695533"
      ]
     },
     "execution_count": 48,
     "metadata": {},
     "output_type": "execute_result"
    }
   ],
   "source": [
    "#Cross Valadation\n",
    "from sklearn.model_selection import cross_val_score\n",
    "cross_val_score(et,x,y,cv=5).mean()"
   ]
  },
  {
   "cell_type": "code",
   "execution_count": 51,
   "metadata": {},
   "outputs": [],
   "source": [
    "#givig test value to final model\n",
    "pred_cost=et.predict(ds_te)"
   ]
  },
  {
   "cell_type": "code",
   "execution_count": 52,
   "metadata": {},
   "outputs": [
    {
     "data": {
      "text/plain": [
       "['cost.pkl']"
      ]
     },
     "execution_count": 52,
     "metadata": {},
     "output_type": "execute_result"
    }
   ],
   "source": [
    "#Saving best Model\n",
    "import joblib\n",
    "joblib.dump(et,\"cost.pkl\")"
   ]
  },
  {
   "cell_type": "code",
   "execution_count": null,
   "metadata": {},
   "outputs": [],
   "source": []
  }
 ],
 "metadata": {
  "kernelspec": {
   "display_name": "Python 3",
   "language": "python",
   "name": "python3"
  },
  "language_info": {
   "codemirror_mode": {
    "name": "ipython",
    "version": 3
   },
   "file_extension": ".py",
   "mimetype": "text/x-python",
   "name": "python",
   "nbconvert_exporter": "python",
   "pygments_lexer": "ipython3",
   "version": "3.8.3"
  }
 },
 "nbformat": 4,
 "nbformat_minor": 4
}
