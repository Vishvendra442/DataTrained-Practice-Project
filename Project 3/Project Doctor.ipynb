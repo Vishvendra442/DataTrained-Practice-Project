{
 "cells": [
  {
   "cell_type": "code",
   "execution_count": 1,
   "metadata": {},
   "outputs": [],
   "source": [
    "#importing Libraries\n",
    "import pandas as pd\n",
    "import numpy as np\n",
    "\n",
    "#importing Visualisation Libraries\n",
    "import matplotlib.pyplot as plt\n",
    "import seaborn as sns\n",
    "\n",
    "#Importing Warnings\n",
    "import warnings\n",
    "warnings.filterwarnings('ignore')"
   ]
  },
  {
   "cell_type": "code",
   "execution_count": 2,
   "metadata": {},
   "outputs": [],
   "source": [
    "#Loding train Dataset\n",
    "ds1=pd.read_excel('Final_Train.xlsx')\n",
    "ds1=pd.DataFrame(ds1)\n",
    "ds_tr=ds1.copy()\n",
    "\n",
    "#Loding test Dataset\n",
    "ds2=pd.read_excel('Final_Test.xlsx')\n",
    "ds2=pd.DataFrame(ds2)\n",
    "ds_te=ds2.copy()"
   ]
  },
  {
   "cell_type": "code",
   "execution_count": 3,
   "metadata": {},
   "outputs": [
    {
     "name": "stdout",
     "output_type": "stream",
     "text": [
      "(5961, 7)\n"
     ]
    },
    {
     "data": {
      "text/html": [
       "<div>\n",
       "<style scoped>\n",
       "    .dataframe tbody tr th:only-of-type {\n",
       "        vertical-align: middle;\n",
       "    }\n",
       "\n",
       "    .dataframe tbody tr th {\n",
       "        vertical-align: top;\n",
       "    }\n",
       "\n",
       "    .dataframe thead th {\n",
       "        text-align: right;\n",
       "    }\n",
       "</style>\n",
       "<table border=\"1\" class=\"dataframe\">\n",
       "  <thead>\n",
       "    <tr style=\"text-align: right;\">\n",
       "      <th></th>\n",
       "      <th>Qualification</th>\n",
       "      <th>Experience</th>\n",
       "      <th>Rating</th>\n",
       "      <th>Place</th>\n",
       "      <th>Profile</th>\n",
       "      <th>Miscellaneous_Info</th>\n",
       "      <th>Fees</th>\n",
       "    </tr>\n",
       "  </thead>\n",
       "  <tbody>\n",
       "    <tr>\n",
       "      <th>0</th>\n",
       "      <td>BHMS, MD - Homeopathy</td>\n",
       "      <td>24 years experience</td>\n",
       "      <td>100%</td>\n",
       "      <td>Kakkanad, Ernakulam</td>\n",
       "      <td>Homeopath</td>\n",
       "      <td>100% 16 Feedback Kakkanad, Ernakulam</td>\n",
       "      <td>100</td>\n",
       "    </tr>\n",
       "    <tr>\n",
       "      <th>1</th>\n",
       "      <td>BAMS, MD - Ayurveda Medicine</td>\n",
       "      <td>12 years experience</td>\n",
       "      <td>98%</td>\n",
       "      <td>Whitefield, Bangalore</td>\n",
       "      <td>Ayurveda</td>\n",
       "      <td>98% 76 Feedback Whitefield, Bangalore</td>\n",
       "      <td>350</td>\n",
       "    </tr>\n",
       "    <tr>\n",
       "      <th>2</th>\n",
       "      <td>MBBS, MS - Otorhinolaryngology</td>\n",
       "      <td>9 years experience</td>\n",
       "      <td>NaN</td>\n",
       "      <td>Mathikere - BEL, Bangalore</td>\n",
       "      <td>ENT Specialist</td>\n",
       "      <td>NaN</td>\n",
       "      <td>300</td>\n",
       "    </tr>\n",
       "    <tr>\n",
       "      <th>3</th>\n",
       "      <td>BSc - Zoology, BAMS</td>\n",
       "      <td>12 years experience</td>\n",
       "      <td>NaN</td>\n",
       "      <td>Bannerghatta Road, Bangalore</td>\n",
       "      <td>Ayurveda</td>\n",
       "      <td>Bannerghatta Road, Bangalore ₹250 Available on...</td>\n",
       "      <td>250</td>\n",
       "    </tr>\n",
       "    <tr>\n",
       "      <th>4</th>\n",
       "      <td>BAMS</td>\n",
       "      <td>20 years experience</td>\n",
       "      <td>100%</td>\n",
       "      <td>Keelkattalai, Chennai</td>\n",
       "      <td>Ayurveda</td>\n",
       "      <td>100% 4 Feedback Keelkattalai, Chennai</td>\n",
       "      <td>250</td>\n",
       "    </tr>\n",
       "  </tbody>\n",
       "</table>\n",
       "</div>"
      ],
      "text/plain": [
       "                    Qualification           Experience Rating  \\\n",
       "0           BHMS, MD - Homeopathy  24 years experience   100%   \n",
       "1    BAMS, MD - Ayurveda Medicine  12 years experience    98%   \n",
       "2  MBBS, MS - Otorhinolaryngology   9 years experience    NaN   \n",
       "3             BSc - Zoology, BAMS  12 years experience    NaN   \n",
       "4                            BAMS  20 years experience   100%   \n",
       "\n",
       "                          Place         Profile  \\\n",
       "0           Kakkanad, Ernakulam       Homeopath   \n",
       "1         Whitefield, Bangalore        Ayurveda   \n",
       "2    Mathikere - BEL, Bangalore  ENT Specialist   \n",
       "3  Bannerghatta Road, Bangalore        Ayurveda   \n",
       "4         Keelkattalai, Chennai        Ayurveda   \n",
       "\n",
       "                                  Miscellaneous_Info  Fees  \n",
       "0               100% 16 Feedback Kakkanad, Ernakulam   100  \n",
       "1              98% 76 Feedback Whitefield, Bangalore   350  \n",
       "2                                                NaN   300  \n",
       "3  Bannerghatta Road, Bangalore ₹250 Available on...   250  \n",
       "4              100% 4 Feedback Keelkattalai, Chennai   250  "
      ]
     },
     "execution_count": 3,
     "metadata": {},
     "output_type": "execute_result"
    }
   ],
   "source": [
    "#looking at dataset\n",
    "\n",
    "print(ds_tr.shape)\n",
    "ds_tr.head()"
   ]
  },
  {
   "cell_type": "markdown",
   "metadata": {},
   "source": [
    "Here we have dataset of 5961 Rows and 7 Columns \n",
    "\n",
    "Qualification: Qualification and degrees held by the doctor\n",
    "\n",
    "Experience: Experience of the doctor in number of years\n",
    "\n",
    "Rating: Rating given by patients\n",
    "\n",
    "Profile: Type of the doctor\n",
    "\n",
    "Miscellaeous_Info: Extra information about the doctor\n",
    "\n",
    "Fees: Fees charged by the doctor\n",
    "\n",
    "Place: Area and the city where the doctor is located."
   ]
  },
  {
   "cell_type": "code",
   "execution_count": 4,
   "metadata": {},
   "outputs": [
    {
     "name": "stdout",
     "output_type": "stream",
     "text": [
      "Qualification: 1420\n",
      "Experience: 64\n",
      "Rating: 51\n",
      "Place: 877\n",
      "Profile 6\n"
     ]
    }
   ],
   "source": [
    "#printing number of unique Values\n",
    "\n",
    "print('Qualification:', ds_tr['Qualification'].nunique())\n",
    "print('Experience:', ds_tr['Experience'].nunique())\n",
    "print('Rating:', ds_tr['Rating'].nunique())\n",
    "print('Place:', ds_tr['Place'].nunique())\n",
    "print('Profile', ds_tr['Profile'].nunique())"
   ]
  },
  {
   "cell_type": "code",
   "execution_count": 5,
   "metadata": {},
   "outputs": [
    {
     "name": "stdout",
     "output_type": "stream",
     "text": [
      "<class 'pandas.core.frame.DataFrame'>\n",
      "RangeIndex: 5961 entries, 0 to 5960\n",
      "Data columns (total 7 columns):\n",
      " #   Column              Non-Null Count  Dtype \n",
      "---  ------              --------------  ----- \n",
      " 0   Qualification       5961 non-null   object\n",
      " 1   Experience          5961 non-null   object\n",
      " 2   Rating              2659 non-null   object\n",
      " 3   Place               5936 non-null   object\n",
      " 4   Profile             5961 non-null   object\n",
      " 5   Miscellaneous_Info  3341 non-null   object\n",
      " 6   Fees                5961 non-null   int64 \n",
      "dtypes: int64(1), object(6)\n",
      "memory usage: 326.1+ KB\n"
     ]
    }
   ],
   "source": [
    "#checking info of dataset\n",
    "\n",
    "ds_tr.info()"
   ]
  },
  {
   "cell_type": "markdown",
   "metadata": {},
   "source": [
    "Here we observe that\n",
    "Experience feature has to be int64 datatype column but 'Years Experience' making it Object type\n",
    "\n",
    "Rating feature has to be int64 datatype column but '%' making it Object type\n",
    "\n",
    "Qualification feature also has their higher education at 0 Index\n",
    "\n",
    "Place Feature has 2 things, Region And City\n",
    "\n",
    "and Miscellaneous Info has many entries specially how many people have feedback\n"
   ]
  },
  {
   "cell_type": "markdown",
   "metadata": {},
   "source": [
    "# Null Values"
   ]
  },
  {
   "cell_type": "code",
   "execution_count": 6,
   "metadata": {},
   "outputs": [
    {
     "name": "stdout",
     "output_type": "stream",
     "text": [
      "Train\n",
      "Qualification            0\n",
      "Experience               0\n",
      "Rating                3302\n",
      "Place                   25\n",
      "Profile                  0\n",
      "Miscellaneous_Info    2620\n",
      "Fees                     0\n",
      "dtype: int64\n",
      "\n",
      "Test\n",
      "Qualification            0\n",
      "Experience               0\n",
      "Rating                1090\n",
      "Place                    6\n",
      "Profile                  0\n",
      "Miscellaneous_Info     834\n",
      "dtype: int64\n"
     ]
    }
   ],
   "source": [
    "#Checking Null Values\n",
    "\n",
    "#Train Data\n",
    "print('Train')\n",
    "print(ds_tr.isnull().sum())\n",
    "print()\n",
    "\n",
    "#Test Data\n",
    "print('Test')\n",
    "print(ds_te.isnull().sum())"
   ]
  },
  {
   "cell_type": "markdown",
   "metadata": {},
   "source": [
    "# Data Pre-Processing"
   ]
  },
  {
   "cell_type": "markdown",
   "metadata": {},
   "source": [
    "Removing Years Experience from Experience index"
   ]
  },
  {
   "cell_type": "code",
   "execution_count": 7,
   "metadata": {},
   "outputs": [],
   "source": [
    "#Train\n",
    "# split the string into a list \n",
    "ds_tr[\"Experience\"] = ds_tr[\"Experience\"].str.split()\n",
    "\n",
    "#extract the first element of the list and convert it into an integer\n",
    "ds_tr[\"Experience\"] = ds_tr[\"Experience\"].str[0].astype(\"int\")\n",
    "\n",
    "#Test\n",
    "# split the string into a list \n",
    "ds_te[\"Experience\"] = ds_te[\"Experience\"].str.split()\n",
    "\n",
    "#extract the first element of the list and convert it into an integer\n",
    "ds_te[\"Experience\"] = ds_te[\"Experience\"].str[0].astype(\"int\")"
   ]
  },
  {
   "cell_type": "markdown",
   "metadata": {},
   "source": [
    "Handeling Missing as well as % sign in Rating Columns"
   ]
  },
  {
   "cell_type": "code",
   "execution_count": 8,
   "metadata": {},
   "outputs": [],
   "source": [
    "#Replacing NaN with 0%\n",
    "\n",
    "#Train\n",
    "ds_tr['Rating'].fillna('0%', inplace=True)\n",
    "\n",
    "#Test\n",
    "ds_te['Rating'].fillna('0%', inplace=True)\n",
    "\n",
    "#Removing % Sign\n",
    "\n",
    "#Train\n",
    "ds_tr['Rating']= ds_tr['Rating'].str.replace(r'%', '').astype(int)\n",
    "\n",
    "#Test\n",
    "ds_te['Rating']= ds_te['Rating'].str.replace(r'%', '').astype(int)"
   ]
  },
  {
   "cell_type": "markdown",
   "metadata": {},
   "source": [
    "Handeling Missing as well as seprating cities and Region in Place Columns"
   ]
  },
  {
   "cell_type": "code",
   "execution_count": 9,
   "metadata": {},
   "outputs": [],
   "source": [
    "#Replacing NaN with Unknown\n",
    "#Train\n",
    "ds_tr['Place'].fillna(\"Unknown,Unknown\",inplace=True)\n",
    "\n",
    "#Test\n",
    "ds_te['Place'].fillna(\"Unknown,Unknown\",inplace=True)\n",
    "\n",
    "#Seprating City and Region\n",
    "#Train\n",
    "# split the string into a list \n",
    "ds_tr[\"Place\"] = ds_tr[\"Place\"].str.split(\",\")\n",
    "\n",
    "#Creating a new column ‘City’ and 'Region'\n",
    "ds_tr[\"City\"] = ds_tr[\"Place\"].str[-1]\n",
    "ds_tr[\"Region\"] = ds_tr[\"Place\"].str[0]\n",
    "\n",
    "#Test\n",
    "# split the string into a list \n",
    "ds_te[\"Place\"] = ds_te[\"Place\"].str.split(\",\")\n",
    "\n",
    "#Creating a new column ‘City’ and 'Region'\n",
    "ds_te[\"City\"] = ds_te[\"Place\"].str[-1]\n",
    "ds_te[\"Region\"] = ds_te[\"Place\"].str[0]\n",
    "\n",
    "#Dropping Place Feature\n",
    "#Train\n",
    "ds_tr=ds_tr.drop(['Place'],axis=1)\n",
    "\n",
    "#Test\n",
    "ds_te=ds_te.drop(['Place'],axis=1)"
   ]
  },
  {
   "cell_type": "markdown",
   "metadata": {},
   "source": [
    "Extracting Degree from Qualification Column"
   ]
  },
  {
   "cell_type": "code",
   "execution_count": 10,
   "metadata": {},
   "outputs": [],
   "source": [
    "#Train\n",
    "# split the string into a list \n",
    "ds_tr[\"Qualification\"] = ds_tr[\"Qualification\"].str.split(\",\")\n",
    "\n",
    "#extract the first element of the list\n",
    "ds_tr[\"Degree\"] = ds_tr[\"Qualification\"].str[0]\n",
    "\n",
    "#Test\n",
    "# split the string into a list \n",
    "ds_te[\"Qualification\"] = ds_te[\"Qualification\"].str.split(\",\")\n",
    "\n",
    "#extract the first element of the list and convert it into an integer\n",
    "ds_te[\"Degree\"] = ds_te[\"Qualification\"].str[0]"
   ]
  },
  {
   "cell_type": "markdown",
   "metadata": {},
   "source": [
    "So Qualification Column is showing 2 things\n",
    "1. Degree\n",
    "2. Specialzation \n",
    "\n",
    "Now, as we have extracted Degree and We already have Profile Column\n",
    "\n",
    "we can drop Qualification column"
   ]
  },
  {
   "cell_type": "code",
   "execution_count": 11,
   "metadata": {},
   "outputs": [],
   "source": [
    "#Dropping Qualification Feature\n",
    "#Train\n",
    "ds_tr=ds_tr.drop(['Qualification'],axis=1)\n",
    "\n",
    "#Test\n",
    "ds_te=ds_te.drop(['Qualification'],axis=1)"
   ]
  },
  {
   "cell_type": "code",
   "execution_count": 12,
   "metadata": {},
   "outputs": [
    {
     "data": {
      "text/html": [
       "<div>\n",
       "<style scoped>\n",
       "    .dataframe tbody tr th:only-of-type {\n",
       "        vertical-align: middle;\n",
       "    }\n",
       "\n",
       "    .dataframe tbody tr th {\n",
       "        vertical-align: top;\n",
       "    }\n",
       "\n",
       "    .dataframe thead th {\n",
       "        text-align: right;\n",
       "    }\n",
       "</style>\n",
       "<table border=\"1\" class=\"dataframe\">\n",
       "  <thead>\n",
       "    <tr style=\"text-align: right;\">\n",
       "      <th></th>\n",
       "      <th>Experience</th>\n",
       "      <th>Rating</th>\n",
       "      <th>Fees</th>\n",
       "    </tr>\n",
       "  </thead>\n",
       "  <tbody>\n",
       "    <tr>\n",
       "      <th>count</th>\n",
       "      <td>5961.000000</td>\n",
       "      <td>5961.000000</td>\n",
       "      <td>5961.000000</td>\n",
       "    </tr>\n",
       "    <tr>\n",
       "      <th>mean</th>\n",
       "      <td>17.303976</td>\n",
       "      <td>42.217245</td>\n",
       "      <td>307.944640</td>\n",
       "    </tr>\n",
       "    <tr>\n",
       "      <th>std</th>\n",
       "      <td>11.142798</td>\n",
       "      <td>47.340934</td>\n",
       "      <td>190.920373</td>\n",
       "    </tr>\n",
       "    <tr>\n",
       "      <th>min</th>\n",
       "      <td>0.000000</td>\n",
       "      <td>0.000000</td>\n",
       "      <td>5.000000</td>\n",
       "    </tr>\n",
       "    <tr>\n",
       "      <th>25%</th>\n",
       "      <td>9.000000</td>\n",
       "      <td>0.000000</td>\n",
       "      <td>150.000000</td>\n",
       "    </tr>\n",
       "    <tr>\n",
       "      <th>50%</th>\n",
       "      <td>14.000000</td>\n",
       "      <td>0.000000</td>\n",
       "      <td>300.000000</td>\n",
       "    </tr>\n",
       "    <tr>\n",
       "      <th>75%</th>\n",
       "      <td>23.000000</td>\n",
       "      <td>96.000000</td>\n",
       "      <td>500.000000</td>\n",
       "    </tr>\n",
       "    <tr>\n",
       "      <th>max</th>\n",
       "      <td>66.000000</td>\n",
       "      <td>100.000000</td>\n",
       "      <td>950.000000</td>\n",
       "    </tr>\n",
       "  </tbody>\n",
       "</table>\n",
       "</div>"
      ],
      "text/plain": [
       "        Experience       Rating         Fees\n",
       "count  5961.000000  5961.000000  5961.000000\n",
       "mean     17.303976    42.217245   307.944640\n",
       "std      11.142798    47.340934   190.920373\n",
       "min       0.000000     0.000000     5.000000\n",
       "25%       9.000000     0.000000   150.000000\n",
       "50%      14.000000     0.000000   300.000000\n",
       "75%      23.000000    96.000000   500.000000\n",
       "max      66.000000   100.000000   950.000000"
      ]
     },
     "execution_count": 12,
     "metadata": {},
     "output_type": "execute_result"
    }
   ],
   "source": [
    "#Describing Dataset\n",
    "\n",
    "ds_tr.describe()"
   ]
  },
  {
   "cell_type": "raw",
   "metadata": {},
   "source": [
    "Observation\n",
    "\n",
    "Experience: minimum 0 year experience and maximum 66 year experience\n",
    "\n",
    "Rating: There are some doctors with 100% Rating\n",
    "    \n",
    "Fees: minimum RS.5 Fees and maximum Rs.950 Fees"
   ]
  },
  {
   "cell_type": "markdown",
   "metadata": {},
   "source": [
    "# Data Analysis"
   ]
  },
  {
   "cell_type": "markdown",
   "metadata": {},
   "source": [
    "# Univariant"
   ]
  },
  {
   "cell_type": "code",
   "execution_count": 13,
   "metadata": {},
   "outputs": [
    {
     "data": {
      "text/html": [
       "<div>\n",
       "<style scoped>\n",
       "    .dataframe tbody tr th:only-of-type {\n",
       "        vertical-align: middle;\n",
       "    }\n",
       "\n",
       "    .dataframe tbody tr th {\n",
       "        vertical-align: top;\n",
       "    }\n",
       "\n",
       "    .dataframe thead th {\n",
       "        text-align: right;\n",
       "    }\n",
       "</style>\n",
       "<table border=\"1\" class=\"dataframe\">\n",
       "  <thead>\n",
       "    <tr style=\"text-align: right;\">\n",
       "      <th></th>\n",
       "      <th>Experience</th>\n",
       "      <th>Rating</th>\n",
       "      <th>Profile</th>\n",
       "      <th>Miscellaneous_Info</th>\n",
       "      <th>Fees</th>\n",
       "      <th>City</th>\n",
       "      <th>Region</th>\n",
       "      <th>Degree</th>\n",
       "    </tr>\n",
       "  </thead>\n",
       "  <tbody>\n",
       "    <tr>\n",
       "      <th>0</th>\n",
       "      <td>24</td>\n",
       "      <td>100</td>\n",
       "      <td>Homeopath</td>\n",
       "      <td>100% 16 Feedback Kakkanad, Ernakulam</td>\n",
       "      <td>100</td>\n",
       "      <td>Ernakulam</td>\n",
       "      <td>Kakkanad</td>\n",
       "      <td>BHMS</td>\n",
       "    </tr>\n",
       "    <tr>\n",
       "      <th>1</th>\n",
       "      <td>12</td>\n",
       "      <td>98</td>\n",
       "      <td>Ayurveda</td>\n",
       "      <td>98% 76 Feedback Whitefield, Bangalore</td>\n",
       "      <td>350</td>\n",
       "      <td>Bangalore</td>\n",
       "      <td>Whitefield</td>\n",
       "      <td>BAMS</td>\n",
       "    </tr>\n",
       "    <tr>\n",
       "      <th>2</th>\n",
       "      <td>9</td>\n",
       "      <td>0</td>\n",
       "      <td>ENT Specialist</td>\n",
       "      <td>NaN</td>\n",
       "      <td>300</td>\n",
       "      <td>Bangalore</td>\n",
       "      <td>Mathikere - BEL</td>\n",
       "      <td>MBBS</td>\n",
       "    </tr>\n",
       "    <tr>\n",
       "      <th>3</th>\n",
       "      <td>12</td>\n",
       "      <td>0</td>\n",
       "      <td>Ayurveda</td>\n",
       "      <td>Bannerghatta Road, Bangalore ₹250 Available on...</td>\n",
       "      <td>250</td>\n",
       "      <td>Bangalore</td>\n",
       "      <td>Bannerghatta Road</td>\n",
       "      <td>BSc - Zoology</td>\n",
       "    </tr>\n",
       "    <tr>\n",
       "      <th>4</th>\n",
       "      <td>20</td>\n",
       "      <td>100</td>\n",
       "      <td>Ayurveda</td>\n",
       "      <td>100% 4 Feedback Keelkattalai, Chennai</td>\n",
       "      <td>250</td>\n",
       "      <td>Chennai</td>\n",
       "      <td>Keelkattalai</td>\n",
       "      <td>BAMS</td>\n",
       "    </tr>\n",
       "    <tr>\n",
       "      <th>...</th>\n",
       "      <td>...</td>\n",
       "      <td>...</td>\n",
       "      <td>...</td>\n",
       "      <td>...</td>\n",
       "      <td>...</td>\n",
       "      <td>...</td>\n",
       "      <td>...</td>\n",
       "      <td>...</td>\n",
       "    </tr>\n",
       "    <tr>\n",
       "      <th>5956</th>\n",
       "      <td>19</td>\n",
       "      <td>98</td>\n",
       "      <td>ENT Specialist</td>\n",
       "      <td>98% 45 Feedback Basavanagudi, Bangalore</td>\n",
       "      <td>300</td>\n",
       "      <td>Bangalore</td>\n",
       "      <td>Basavanagudi</td>\n",
       "      <td>MBBS</td>\n",
       "    </tr>\n",
       "    <tr>\n",
       "      <th>5957</th>\n",
       "      <td>33</td>\n",
       "      <td>0</td>\n",
       "      <td>General Medicine</td>\n",
       "      <td>NaN</td>\n",
       "      <td>100</td>\n",
       "      <td>Chennai</td>\n",
       "      <td>Nungambakkam</td>\n",
       "      <td>MBBS</td>\n",
       "    </tr>\n",
       "    <tr>\n",
       "      <th>5958</th>\n",
       "      <td>41</td>\n",
       "      <td>97</td>\n",
       "      <td>General Medicine</td>\n",
       "      <td>97% 11 Feedback Greater Kailash Part 2, Delhi</td>\n",
       "      <td>600</td>\n",
       "      <td>Delhi</td>\n",
       "      <td>Greater Kailash Part 2</td>\n",
       "      <td>MBBS</td>\n",
       "    </tr>\n",
       "    <tr>\n",
       "      <th>5959</th>\n",
       "      <td>15</td>\n",
       "      <td>90</td>\n",
       "      <td>General Medicine</td>\n",
       "      <td>General Medical Consultation Viral Fever Treat...</td>\n",
       "      <td>100</td>\n",
       "      <td>Mumbai</td>\n",
       "      <td>Vileparle West</td>\n",
       "      <td>MBBS</td>\n",
       "    </tr>\n",
       "    <tr>\n",
       "      <th>5960</th>\n",
       "      <td>17</td>\n",
       "      <td>100</td>\n",
       "      <td>Dentist</td>\n",
       "      <td>Acrylic Partial Denture Crowns and Bridges Fix...</td>\n",
       "      <td>200</td>\n",
       "      <td>Delhi</td>\n",
       "      <td>Pitampura</td>\n",
       "      <td>BDS</td>\n",
       "    </tr>\n",
       "  </tbody>\n",
       "</table>\n",
       "<p>5961 rows × 8 columns</p>\n",
       "</div>"
      ],
      "text/plain": [
       "      Experience  Rating           Profile  \\\n",
       "0             24     100         Homeopath   \n",
       "1             12      98          Ayurveda   \n",
       "2              9       0    ENT Specialist   \n",
       "3             12       0          Ayurveda   \n",
       "4             20     100          Ayurveda   \n",
       "...          ...     ...               ...   \n",
       "5956          19      98    ENT Specialist   \n",
       "5957          33       0  General Medicine   \n",
       "5958          41      97  General Medicine   \n",
       "5959          15      90  General Medicine   \n",
       "5960          17     100           Dentist   \n",
       "\n",
       "                                     Miscellaneous_Info  Fees        City  \\\n",
       "0                  100% 16 Feedback Kakkanad, Ernakulam   100   Ernakulam   \n",
       "1                 98% 76 Feedback Whitefield, Bangalore   350   Bangalore   \n",
       "2                                                   NaN   300   Bangalore   \n",
       "3     Bannerghatta Road, Bangalore ₹250 Available on...   250   Bangalore   \n",
       "4                 100% 4 Feedback Keelkattalai, Chennai   250     Chennai   \n",
       "...                                                 ...   ...         ...   \n",
       "5956            98% 45 Feedback Basavanagudi, Bangalore   300   Bangalore   \n",
       "5957                                                NaN   100     Chennai   \n",
       "5958      97% 11 Feedback Greater Kailash Part 2, Delhi   600       Delhi   \n",
       "5959  General Medical Consultation Viral Fever Treat...   100      Mumbai   \n",
       "5960  Acrylic Partial Denture Crowns and Bridges Fix...   200       Delhi   \n",
       "\n",
       "                      Region         Degree  \n",
       "0                   Kakkanad           BHMS  \n",
       "1                 Whitefield           BAMS  \n",
       "2            Mathikere - BEL           MBBS  \n",
       "3          Bannerghatta Road  BSc - Zoology  \n",
       "4               Keelkattalai           BAMS  \n",
       "...                      ...            ...  \n",
       "5956            Basavanagudi           MBBS  \n",
       "5957            Nungambakkam           MBBS  \n",
       "5958  Greater Kailash Part 2           MBBS  \n",
       "5959          Vileparle West           MBBS  \n",
       "5960               Pitampura            BDS  \n",
       "\n",
       "[5961 rows x 8 columns]"
      ]
     },
     "execution_count": 13,
     "metadata": {},
     "output_type": "execute_result"
    }
   ],
   "source": [
    "ds_tr"
   ]
  },
  {
   "cell_type": "code",
   "execution_count": 14,
   "metadata": {},
   "outputs": [
    {
     "data": {
      "text/plain": [
       "Text(0.5, 1.0, 'Experience')"
      ]
     },
     "execution_count": 14,
     "metadata": {},
     "output_type": "execute_result"
    },
    {
     "data": {
      "image/png": "[encoded data removed]",
      "text/plain": [
       "<Figure size 432x288 with 1 Axes>"
      ]
     },
     "metadata": {
      "needs_background": "light"
     },
     "output_type": "display_data"
    }
   ],
   "source": [
    "#Checking Freq. distrubtion of Experience Data\n",
    "\n",
    "ds_tr['Experience'].plot(kind='hist', bins=20)\n",
    "plt.title(\"Experience\")"
   ]
  },
  {
   "cell_type": "markdown",
   "metadata": {},
   "source": [
    "we see that most of the doctor have experience of 10-15 year experience"
   ]
  },
  {
   "cell_type": "code",
   "execution_count": 15,
   "metadata": {},
   "outputs": [
    {
     "data": {
      "text/plain": [
       "Text(0.5, 1.0, 'Experience')"
      ]
     },
     "execution_count": 15,
     "metadata": {},
     "output_type": "execute_result"
    },
    {
     "data": {
      "image/png": "[encoded data removed]",
      "text/plain": [
       "<Figure size 432x288 with 1 Axes>"
      ]
     },
     "metadata": {
      "needs_background": "light"
     },
     "output_type": "display_data"
    }
   ],
   "source": [
    "#mean of experience\n",
    "\n",
    "experience=ds_tr['Experience'].hist(bins=20)\n",
    "mean_exp=np.mean(ds_tr['Experience'])\n",
    "plt.axvline(mean_exp, linewidth=2, color='red', label='mean')\n",
    "plt.title(\"Experience\")"
   ]
  },
  {
   "cell_type": "markdown",
   "metadata": {},
   "source": [
    "We see that mean is around 18 year experience"
   ]
  },
  {
   "cell_type": "code",
   "execution_count": 16,
   "metadata": {},
   "outputs": [
    {
     "data": {
      "text/plain": [
       "Text(0.5, 1.0, 'Rating')"
      ]
     },
     "execution_count": 16,
     "metadata": {},
     "output_type": "execute_result"
    },
    {
     "data": {
      "image/png": "[encoded data removed]",
      "text/plain": [
       "<Figure size 432x288 with 1 Axes>"
      ]
     },
     "metadata": {
      "needs_background": "light"
     },
     "output_type": "display_data"
    }
   ],
   "source": [
    "#Checking Freq. distrubtion of Rating Data\n",
    "\n",
    "ds_tr['Rating'].plot(kind='hist', bins=10)\n",
    "plt.title(\"Rating\")"
   ]
  },
  {
   "cell_type": "markdown",
   "metadata": {},
   "source": [
    "We see that most of the doctor has zero rating but we replaced the NaN value with 0\n",
    "\n",
    "So, we will consider second value, i.e. 90-100"
   ]
  },
  {
   "cell_type": "code",
   "execution_count": null,
   "metadata": {},
   "outputs": [],
   "source": []
  },
  {
   "cell_type": "code",
   "execution_count": 17,
   "metadata": {},
   "outputs": [
    {
     "data": {
      "text/plain": [
       "(array([0, 1, 2, 3, 4, 5]), <a list of 6 Text major ticklabel objects>)"
      ]
     },
     "execution_count": 17,
     "metadata": {},
     "output_type": "execute_result"
    },
    {
     "data": {
      "image/png": "[encoded data removed]",
      "text/plain": [
       "<Figure size 432x288 with 1 Axes>"
      ]
     },
     "metadata": {
      "needs_background": "light"
     },
     "output_type": "display_data"
    }
   ],
   "source": [
    "#Plotting countplot of Profile\n",
    "\n",
    "sns.countplot(ds_tr['Profile'], palette=\"rainbow\")\n",
    "plt.title(\"Profile\")\n",
    "plt.xticks(rotation=90)"
   ]
  },
  {
   "cell_type": "markdown",
   "metadata": {},
   "source": [
    "we see that most of the doctors are dentist while ENT Specialist are least "
   ]
  },
  {
   "cell_type": "code",
   "execution_count": 18,
   "metadata": {},
   "outputs": [
    {
     "data": {
      "text/plain": [
       "<matplotlib.axes._subplots.AxesSubplot at 0x1d747e492b0>"
      ]
     },
     "execution_count": 18,
     "metadata": {},
     "output_type": "execute_result"
    },
    {
     "data": {
      "image/png": "[encoded data removed]",
      "text/plain": [
       "<Figure size 432x288 with 1 Axes>"
      ]
     },
     "metadata": {
      "needs_background": "light"
     },
     "output_type": "display_data"
    }
   ],
   "source": [
    "#plotting distplot to analyse Fees\n",
    "sns.distplot(ds_tr['Fees'], bins=(10))"
   ]
  },
  {
   "cell_type": "markdown",
   "metadata": {},
   "source": [
    "Most of the doctor has the fees of range 100-200\n",
    "\n",
    "while less docoters have fees above 600"
   ]
  },
  {
   "cell_type": "code",
   "execution_count": 19,
   "metadata": {},
   "outputs": [
    {
     "data": {
      "text/plain": [
       "(array([0, 1, 2, 3, 4, 5, 6, 7, 8, 9]),\n",
       " <a list of 10 Text major ticklabel objects>)"
      ]
     },
     "execution_count": 19,
     "metadata": {},
     "output_type": "execute_result"
    },
    {
     "data": {
      "image/png": "[encoded data removed]",
      "text/plain": [
       "<Figure size 432x288 with 1 Axes>"
      ]
     },
     "metadata": {
      "needs_background": "light"
     },
     "output_type": "display_data"
    }
   ],
   "source": [
    "#Plotting countplot of City\n",
    "\n",
    "sns.countplot(ds_tr['City'], palette=\"winter\")\n",
    "plt.title(\"City\")\n",
    "plt.xticks(rotation=90)"
   ]
  },
  {
   "cell_type": "markdown",
   "metadata": {},
   "source": [
    "We see that most of the doctor are from Metro Cities"
   ]
  },
  {
   "cell_type": "code",
   "execution_count": 20,
   "metadata": {},
   "outputs": [
    {
     "data": {
      "text/plain": [
       "MBBS                                  2448\n",
       "BDS                                   1208\n",
       "BAMS                                   711\n",
       "BHMS                                   706\n",
       "MD - Dermatology                        84\n",
       "                                      ... \n",
       "DNB - Paediatrics                        1\n",
       "Fellowship In Clinical Cosmetology       1\n",
       "FAGE                                     1\n",
       "DNHE                                     1\n",
       "DGO                                      1\n",
       "Name: Degree, Length: 151, dtype: int64"
      ]
     },
     "execution_count": 20,
     "metadata": {},
     "output_type": "execute_result"
    }
   ],
   "source": [
    "#Checking Degree\n",
    "ds_tr['Degree'].value_counts()"
   ]
  },
  {
   "cell_type": "markdown",
   "metadata": {},
   "source": [
    "We see that most of the doctor did the MBBS"
   ]
  },
  {
   "cell_type": "markdown",
   "metadata": {},
   "source": [
    "# Bivarent Analysis"
   ]
  },
  {
   "cell_type": "code",
   "execution_count": 21,
   "metadata": {},
   "outputs": [
    {
     "data": {
      "text/plain": [
       "<matplotlib.legend.Legend at 0x1d747eb8cd0>"
      ]
     },
     "execution_count": 21,
     "metadata": {},
     "output_type": "execute_result"
    },
    {
     "data": {
      "image/png": "[encoded data removed]",
      "text/plain": [
       "<Figure size 1080x360 with 1 Axes>"
      ]
     },
     "metadata": {
      "needs_background": "light"
     },
     "output_type": "display_data"
    }
   ],
   "source": [
    "#size of fig.\n",
    "plt.figure(figsize=(15,5))\n",
    "\n",
    "#Countplot of City\n",
    "sns.countplot(x='City', hue='Profile',data=ds_tr)\n",
    "plt.title('City', fontsize=20)\n",
    "plt.xticks(rotation=90)\n",
    "plt.legend()"
   ]
  },
  {
   "cell_type": "markdown",
   "metadata": {},
   "source": [
    "Observation -\n",
    "\n",
    "Ernakulam has most of the dentist doctor and least homeopatic.\n",
    "\n",
    "Bangalore has more dentist and ENT out of all the cities.\n",
    "\n",
    "In chennai and coimbatore people trust less in ayurveda.\n",
    "\n",
    "In delhi people prefer homeopathric more then general medicine.\n",
    "\n",
    "In mumbai people prefer ayurveda than any other type medicine and also mumbai has most number of ayurvedic doctor\n",
    "\n",
    "Bangalore and Mumbai has most number of General Medicine\n",
    "\n",
    "Over all best city in terms of availabiltiy of doctor is Bangalore"
   ]
  },
  {
   "cell_type": "code",
   "execution_count": 22,
   "metadata": {},
   "outputs": [
    {
     "data": {
      "text/html": [
       "<div>\n",
       "<style scoped>\n",
       "    .dataframe tbody tr th:only-of-type {\n",
       "        vertical-align: middle;\n",
       "    }\n",
       "\n",
       "    .dataframe tbody tr th {\n",
       "        vertical-align: top;\n",
       "    }\n",
       "\n",
       "    .dataframe thead th {\n",
       "        text-align: right;\n",
       "    }\n",
       "</style>\n",
       "<table border=\"1\" class=\"dataframe\">\n",
       "  <thead>\n",
       "    <tr style=\"text-align: right;\">\n",
       "      <th></th>\n",
       "      <th>Experience</th>\n",
       "      <th>Rating</th>\n",
       "      <th>Profile</th>\n",
       "      <th>Miscellaneous_Info</th>\n",
       "      <th>Fees</th>\n",
       "      <th>City</th>\n",
       "      <th>Region</th>\n",
       "      <th>Degree</th>\n",
       "    </tr>\n",
       "  </thead>\n",
       "  <tbody>\n",
       "    <tr>\n",
       "      <th>0</th>\n",
       "      <td>24</td>\n",
       "      <td>100</td>\n",
       "      <td>Homeopath</td>\n",
       "      <td>100% 16 Feedback Kakkanad, Ernakulam</td>\n",
       "      <td>100</td>\n",
       "      <td>Ernakulam</td>\n",
       "      <td>Kakkanad</td>\n",
       "      <td>BHMS</td>\n",
       "    </tr>\n",
       "    <tr>\n",
       "      <th>1</th>\n",
       "      <td>12</td>\n",
       "      <td>98</td>\n",
       "      <td>Ayurveda</td>\n",
       "      <td>98% 76 Feedback Whitefield, Bangalore</td>\n",
       "      <td>350</td>\n",
       "      <td>Bangalore</td>\n",
       "      <td>Whitefield</td>\n",
       "      <td>BAMS</td>\n",
       "    </tr>\n",
       "    <tr>\n",
       "      <th>2</th>\n",
       "      <td>9</td>\n",
       "      <td>0</td>\n",
       "      <td>ENT Specialist</td>\n",
       "      <td>NaN</td>\n",
       "      <td>300</td>\n",
       "      <td>Bangalore</td>\n",
       "      <td>Mathikere - BEL</td>\n",
       "      <td>MBBS</td>\n",
       "    </tr>\n",
       "    <tr>\n",
       "      <th>3</th>\n",
       "      <td>12</td>\n",
       "      <td>0</td>\n",
       "      <td>Ayurveda</td>\n",
       "      <td>Bannerghatta Road, Bangalore ₹250 Available on...</td>\n",
       "      <td>250</td>\n",
       "      <td>Bangalore</td>\n",
       "      <td>Bannerghatta Road</td>\n",
       "      <td>BSc - Zoology</td>\n",
       "    </tr>\n",
       "    <tr>\n",
       "      <th>4</th>\n",
       "      <td>20</td>\n",
       "      <td>100</td>\n",
       "      <td>Ayurveda</td>\n",
       "      <td>100% 4 Feedback Keelkattalai, Chennai</td>\n",
       "      <td>250</td>\n",
       "      <td>Chennai</td>\n",
       "      <td>Keelkattalai</td>\n",
       "      <td>BAMS</td>\n",
       "    </tr>\n",
       "  </tbody>\n",
       "</table>\n",
       "</div>"
      ],
      "text/plain": [
       "   Experience  Rating         Profile  \\\n",
       "0          24     100       Homeopath   \n",
       "1          12      98        Ayurveda   \n",
       "2           9       0  ENT Specialist   \n",
       "3          12       0        Ayurveda   \n",
       "4          20     100        Ayurveda   \n",
       "\n",
       "                                  Miscellaneous_Info  Fees        City  \\\n",
       "0               100% 16 Feedback Kakkanad, Ernakulam   100   Ernakulam   \n",
       "1              98% 76 Feedback Whitefield, Bangalore   350   Bangalore   \n",
       "2                                                NaN   300   Bangalore   \n",
       "3  Bannerghatta Road, Bangalore ₹250 Available on...   250   Bangalore   \n",
       "4              100% 4 Feedback Keelkattalai, Chennai   250     Chennai   \n",
       "\n",
       "              Region         Degree  \n",
       "0           Kakkanad           BHMS  \n",
       "1         Whitefield           BAMS  \n",
       "2    Mathikere - BEL           MBBS  \n",
       "3  Bannerghatta Road  BSc - Zoology  \n",
       "4       Keelkattalai           BAMS  "
      ]
     },
     "execution_count": 22,
     "metadata": {},
     "output_type": "execute_result"
    }
   ],
   "source": [
    "ds_tr.head()"
   ]
  },
  {
   "cell_type": "code",
   "execution_count": 23,
   "metadata": {},
   "outputs": [
    {
     "data": {
      "text/plain": [
       "(array([0, 1, 2, 3, 4, 5]), <a list of 6 Text major ticklabel objects>)"
      ]
     },
     "execution_count": 23,
     "metadata": {},
     "output_type": "execute_result"
    },
    {
     "data": {
      "image/png": "[encoded data removed]",
      "text/plain": [
       "<Figure size 720x360 with 1 Axes>"
      ]
     },
     "metadata": {
      "needs_background": "light"
     },
     "output_type": "display_data"
    }
   ],
   "source": [
    "#Plotting bar Graph to compare fees of different profile\n",
    "plt.figure(figsize=(10,5))\n",
    "sns.barplot(x='Profile', y='Fees', data=ds_tr, palette=\"Blues_d\")\n",
    "plt.xticks(rotation=90)"
   ]
  },
  {
   "cell_type": "markdown",
   "metadata": {},
   "source": [
    "Dermatologist have highest fees while Ayurveic Doctoer has lowest fees"
   ]
  },
  {
   "cell_type": "code",
   "execution_count": 24,
   "metadata": {},
   "outputs": [
    {
     "data": {
      "text/plain": [
       "(array([0, 1, 2, 3, 4, 5, 6, 7, 8, 9]),\n",
       " <a list of 10 Text major ticklabel objects>)"
      ]
     },
     "execution_count": 24,
     "metadata": {},
     "output_type": "execute_result"
    },
    {
     "data": {
      "image/png": "[encoded data removed]",
      "text/plain": [
       "<Figure size 720x360 with 1 Axes>"
      ]
     },
     "metadata": {
      "needs_background": "light"
     },
     "output_type": "display_data"
    }
   ],
   "source": [
    "#Plotting bar Graph to compare fees of different state\n",
    "plt.figure(figsize=(10,5))\n",
    "sns.barplot(x='City', y='Fees', data=ds_tr, palette=\"Blues_d\")\n",
    "plt.xticks(rotation=90)"
   ]
  },
  {
   "cell_type": "markdown",
   "metadata": {},
   "source": [
    "Delhi has most highest doctor's fees"
   ]
  },
  {
   "cell_type": "code",
   "execution_count": 25,
   "metadata": {},
   "outputs": [
    {
     "data": {
      "text/plain": [
       "(array([0, 1, 2, 3, 4, 5]), <a list of 6 Text major ticklabel objects>)"
      ]
     },
     "execution_count": 25,
     "metadata": {},
     "output_type": "execute_result"
    },
    {
     "data": {
      "image/png": "[encoded data removed]",
      "text/plain": [
       "<Figure size 720x360 with 1 Axes>"
      ]
     },
     "metadata": {
      "needs_background": "light"
     },
     "output_type": "display_data"
    }
   ],
   "source": [
    "#Plotting bar Graph to compare ratings of different profile\n",
    "plt.figure(figsize=(10,5))\n",
    "sns.barplot(x='Profile', y='Rating', data=ds_tr, palette=\"summer\")\n",
    "plt.xticks(rotation=90)"
   ]
  },
  {
   "cell_type": "markdown",
   "metadata": {},
   "source": [
    "High Rating Means satisfaction\n",
    "\n",
    "we see that most of the people are satisfied with the dentist and least satisfy with ayurveda"
   ]
  },
  {
   "cell_type": "code",
   "execution_count": 26,
   "metadata": {},
   "outputs": [
    {
     "data": {
      "text/plain": [
       "(array([0, 1, 2, 3, 4, 5, 6, 7, 8, 9]),\n",
       " <a list of 10 Text major ticklabel objects>)"
      ]
     },
     "execution_count": 26,
     "metadata": {},
     "output_type": "execute_result"
    },
    {
     "data": {
      "image/png": "[encoded data removed]",
      "text/plain": [
       "<Figure size 720x360 with 1 Axes>"
      ]
     },
     "metadata": {
      "needs_background": "light"
     },
     "output_type": "display_data"
    }
   ],
   "source": [
    "#Plotting bar Graph to compare ratings of different states\n",
    "plt.figure(figsize=(10,5))\n",
    "sns.barplot(x='City', y='Rating', data=ds_tr, palette=\"summer\")\n",
    "plt.xticks(rotation=90)"
   ]
  },
  {
   "cell_type": "markdown",
   "metadata": {},
   "source": [
    "Banglore has best medical facilites while people of Thiruvananathapuram are lest satisfied"
   ]
  },
  {
   "cell_type": "code",
   "execution_count": 27,
   "metadata": {},
   "outputs": [
    {
     "data": {
      "text/plain": [
       "(array([0, 1, 2, 3, 4, 5]), <a list of 6 Text major ticklabel objects>)"
      ]
     },
     "execution_count": 27,
     "metadata": {},
     "output_type": "execute_result"
    },
    {
     "data": {
      "image/png": "[encoded data removed]",
      "text/plain": [
       "<Figure size 720x360 with 1 Axes>"
      ]
     },
     "metadata": {
      "needs_background": "light"
     },
     "output_type": "display_data"
    }
   ],
   "source": [
    "#Plotting bar Graph to compare Experience of different profile\n",
    "plt.figure(figsize=(10,5))\n",
    "sns.barplot(x='Profile', y='Experience', data=ds_tr, palette=\"spring\")\n",
    "plt.xticks(rotation=90)"
   ]
  },
  {
   "cell_type": "markdown",
   "metadata": {},
   "source": [
    "General Medicine doctors are most experienced while dentist are least experienced"
   ]
  },
  {
   "cell_type": "code",
   "execution_count": 28,
   "metadata": {},
   "outputs": [
    {
     "data": {
      "text/plain": [
       "<matplotlib.axes._subplots.AxesSubplot at 0x1d74834de80>"
      ]
     },
     "execution_count": 28,
     "metadata": {},
     "output_type": "execute_result"
    },
    {
     "data": {
      "image/png": "[encoded data removed]",
      "text/plain": [
       "<Figure size 720x360 with 2 Axes>"
      ]
     },
     "metadata": {
      "needs_background": "light"
     },
     "output_type": "display_data"
    }
   ],
   "source": [
    "#Correlation Heatmap\n",
    "plt.figure(figsize=(10,5))\n",
    "sns.heatmap(ds_tr.corr(), annot=True, linewidths=0.5,linecolor=\"black\", fmt= '.0%')"
   ]
  },
  {
   "cell_type": "markdown",
   "metadata": {},
   "source": [
    "we think that experience is most highly releated to fees but we see completely opposite here\n",
    "and rating is also low releated"
   ]
  },
  {
   "cell_type": "markdown",
   "metadata": {},
   "source": [
    "# Skewness"
   ]
  },
  {
   "cell_type": "code",
   "execution_count": 29,
   "metadata": {},
   "outputs": [
    {
     "name": "stdout",
     "output_type": "stream",
     "text": [
      "Train\n",
      "Experience    0.991089\n",
      "Rating        0.247186\n",
      "Fees          0.751870\n",
      "dtype: float64\n",
      "\n",
      "Test\n",
      "Experience    0.963447\n",
      "Rating        0.225321\n",
      "dtype: float64\n"
     ]
    }
   ],
   "source": [
    "#Checking Skewness\n",
    "\n",
    "#Train Data\n",
    "print('Train')\n",
    "print(ds_tr.skew())\n",
    "print()\n",
    "\n",
    "#Test Data\n",
    "print('Test')\n",
    "print(ds_te.skew())"
   ]
  },
  {
   "cell_type": "markdown",
   "metadata": {},
   "source": [
    "Experience feature have skewness"
   ]
  },
  {
   "cell_type": "code",
   "execution_count": 30,
   "metadata": {},
   "outputs": [],
   "source": [
    "#removing Skewness\n",
    "\n",
    "#Training dataset\n",
    "ds_tr['Experience']=np.sqrt(ds_tr['Experience'])\n",
    "    \n",
    "#Testing dataset\n",
    "ds_te['Experience']=np.sqrt(ds_te['Experience'])"
   ]
  },
  {
   "cell_type": "markdown",
   "metadata": {},
   "source": [
    "# Model Building"
   ]
  },
  {
   "cell_type": "code",
   "execution_count": 31,
   "metadata": {},
   "outputs": [],
   "source": [
    "#dropping unecessary column\n",
    "ds_tr=ds_tr.drop(['Miscellaneous_Info'],axis=1)\n",
    "\n",
    "ds_te=ds_te.drop(['Miscellaneous_Info'],axis=1)"
   ]
  },
  {
   "cell_type": "markdown",
   "metadata": {},
   "source": [
    "# Encoding"
   ]
  },
  {
   "cell_type": "code",
   "execution_count": 32,
   "metadata": {},
   "outputs": [
    {
     "data": {
      "text/plain": [
       "Index(['Experience', 'Rating', 'Profile', 'Fees', 'City', 'Region', 'Degree'], dtype='object')"
      ]
     },
     "execution_count": 32,
     "metadata": {},
     "output_type": "execute_result"
    }
   ],
   "source": [
    "ds_tr.columns"
   ]
  },
  {
   "cell_type": "code",
   "execution_count": 33,
   "metadata": {},
   "outputs": [],
   "source": [
    "#Encoding columns with catagorical data\n",
    "\n",
    "from sklearn.preprocessing import LabelEncoder\n",
    "\n",
    "le = LabelEncoder()\n",
    "Label = ['Profile','City','Region', 'Degree']\n",
    "\n",
    "for i in Label:\n",
    "    ds_tr[i] = le.fit_transform(ds_tr[i])\n",
    "    ds_te[i] = le.fit_transform(ds_te[i])"
   ]
  },
  {
   "cell_type": "markdown",
   "metadata": {},
   "source": [
    "# Standard Scaling"
   ]
  },
  {
   "cell_type": "code",
   "execution_count": 34,
   "metadata": {},
   "outputs": [],
   "source": [
    "#Normalising\n",
    "from sklearn.preprocessing import StandardScaler\n",
    "\n",
    "#Making X and Y variables\n",
    "x=ds_tr.drop('Fees', axis=1)\n",
    "y=ds_tr['Fees']\n",
    "\n",
    "#Standard Scaling\n",
    "sc=StandardScaler()\n",
    "x=sc.fit_transform(x)"
   ]
  },
  {
   "cell_type": "markdown",
   "metadata": {},
   "source": [
    "By looking at the target variable we see that this is a Regression Problem"
   ]
  },
  {
   "cell_type": "code",
   "execution_count": 35,
   "metadata": {},
   "outputs": [],
   "source": [
    "#ML Models\n",
    "from sklearn.linear_model import LinearRegression, Lasso, Ridge, ElasticNet\n",
    "from sklearn.svm import SVR\n",
    "from sklearn.tree import DecisionTreeRegressor\n",
    "from sklearn.neighbors import KNeighborsRegressor\n",
    "\n",
    "#model selection\n",
    "from sklearn.model_selection import train_test_split, GridSearchCV\n",
    "\n",
    "#metrics\n",
    "from sklearn.metrics import r2_score,mean_absolute_error,mean_squared_error"
   ]
  },
  {
   "cell_type": "code",
   "execution_count": 36,
   "metadata": {},
   "outputs": [
    {
     "name": "stdout",
     "output_type": "stream",
     "text": [
      "LinearRegression()\n",
      "0.09274785256853857\n",
      "R2 Score\n",
      "0.09050741955695207\n",
      "MAE\n",
      "143.33029347027554\n",
      "MSE\n",
      "31328.90143048672\n",
      "\n",
      "..................................................................................................................\n",
      "SVR()\n",
      "0.06850651027092292\n",
      "R2 Score\n",
      "0.0751958536758125\n",
      "MAE\n",
      "139.8168907997359\n",
      "MSE\n",
      "31856.332383252655\n",
      "\n",
      "..................................................................................................................\n",
      "DecisionTreeRegressor()\n",
      "0.9919002705123727\n",
      "R2 Score\n",
      "-0.6007324225248281\n",
      "MAE\n",
      "166.04861693210393\n",
      "MSE\n",
      "55139.74424885908\n",
      "\n",
      "..................................................................................................................\n",
      "KNeighborsRegressor()\n",
      "0.35283389328492465\n",
      "R2 Score\n",
      "0.03157638826484421\n",
      "MAE\n",
      "137.91718357082985\n",
      "MSE\n",
      "33358.873428331935\n",
      "\n",
      "..................................................................................................................\n",
      "Lasso()\n",
      "0.09257550139795268\n",
      "R2 Score\n",
      "0.08997537163215485\n",
      "MAE\n",
      "143.4902859001185\n",
      "MSE\n",
      "31347.22865750395\n",
      "\n",
      "..................................................................................................................\n",
      "Ridge()\n",
      "0.09274784899181476\n",
      "R2 Score\n",
      "0.09050775031160063\n",
      "MAE\n",
      "143.33108018066793\n",
      "MSE\n",
      "31328.890037122987\n",
      "\n",
      "..................................................................................................................\n",
      "ElasticNet()\n",
      "0.08295086385830763\n",
      "R2 Score\n",
      "0.08129030500378642\n",
      "MAE\n",
      "145.32691012809585\n",
      "MSE\n",
      "31646.39942829223\n",
      "\n",
      "..................................................................................................................\n"
     ]
    }
   ],
   "source": [
    "#testing Different Models\n",
    "model=[LinearRegression(),SVR(), DecisionTreeRegressor(), KNeighborsRegressor(),Lasso(), Ridge(), ElasticNet()]\n",
    "\n",
    "x_train,x_test,y_train,y_test=train_test_split(x, y, random_state=42, test_size=0.20)\n",
    "\n",
    "for i in model:\n",
    "    i.fit(x_train,y_train)\n",
    "    pred=i.predict(x_test)\n",
    "    print(i)\n",
    "    print(i.score(x_train,y_train))\n",
    "    print('R2 Score')\n",
    "    print(r2_score(y_test,pred))\n",
    "    print('MAE')\n",
    "    print(mean_absolute_error(y_test,pred))\n",
    "    print('MSE')\n",
    "    print(mean_squared_error(y_test,pred))\n",
    "    print()\n",
    "    print('..................................................................................................................')"
   ]
  },
  {
   "cell_type": "code",
   "execution_count": 37,
   "metadata": {},
   "outputs": [
    {
     "name": "stdout",
     "output_type": "stream",
     "text": [
      "max r2 score corrosponding to 27 is 0.12244724053498923\n"
     ]
    }
   ],
   "source": [
    "lr=LinearRegression()\n",
    "max_score=0\n",
    "for i in range(1,100):\n",
    "    x_train,x_test,y_train,y_test=train_test_split(x,y, random_state=i, test_size=0.20)\n",
    "    lr.fit(x_train,y_train)\n",
    "    pred=lr.predict(x_test)\n",
    "    r2=r2_score(y_test,pred)\n",
    "    if r2>max_score:\n",
    "        max_score=r2\n",
    "        final=i\n",
    "print('max r2 score corrosponding to' ,final ,'is', max_score)"
   ]
  },
  {
   "cell_type": "code",
   "execution_count": 38,
   "metadata": {},
   "outputs": [
    {
     "name": "stdout",
     "output_type": "stream",
     "text": [
      "0.08424170650589502\n",
      "R2 Score\n",
      "0.12244724053498923\n",
      "MAE\n",
      "143.9329386398785\n",
      "MSE\n",
      "31678.08941784965\n",
      "\n"
     ]
    }
   ],
   "source": [
    "#Calling Model\n",
    "le=LinearRegression()\n",
    "\n",
    "#Train Test Split\n",
    "x_train,x_test,y_train,y_test=train_test_split(x, y, random_state=27, test_size=0.20)\n",
    "\n",
    "#fitting Train data in model\n",
    "le.fit(x_train,y_train)\n",
    "\n",
    "#Predecting Values\n",
    "pred=le.predict(x_test)\n",
    "\n",
    "#printing Matrics\n",
    "print(le.score(x_train,y_train))\n",
    "print('R2 Score')\n",
    "print(r2_score(y_test,pred))\n",
    "print('MAE')\n",
    "print(mean_absolute_error(y_test,pred))\n",
    "print('MSE')\n",
    "print(mean_squared_error(y_test,pred))\n",
    "print()"
   ]
  },
  {
   "cell_type": "markdown",
   "metadata": {},
   "source": [
    "# Ensembel Technique"
   ]
  },
  {
   "cell_type": "code",
   "execution_count": 1,
   "metadata": {},
   "outputs": [],
   "source": [
    "# Imporing ML Models\n",
    "from sklearn.ensemble import RandomForestRegressor, AdaBoostRegressor , GradientBoostingRegressor, BaggingRegressor, ExtraTreesRegressor\n"
   ]
  },
  {
   "cell_type": "code",
   "execution_count": 40,
   "metadata": {},
   "outputs": [
    {
     "name": "stdout",
     "output_type": "stream",
     "text": [
      "RandomForestRegressor()\n",
      "0.8734393027633931\n",
      "R2 Score\n",
      "0.13311709647402725\n",
      "MAE\n",
      "130.6878447690895\n",
      "MSE\n",
      "29861.144137217052\n",
      "\n",
      "..................................................................................................................\n",
      "AdaBoostRegressor()\n",
      "0.11619067632186886\n",
      "R2 Score\n",
      "0.11921563461859874\n",
      "MAE\n",
      "142.83551570259087\n",
      "MSE\n",
      "30340.00184048301\n",
      "\n",
      "..................................................................................................................\n",
      "GradientBoostingRegressor()\n",
      "0.25920115825783063\n",
      "R2 Score\n",
      "0.22751256938642495\n",
      "MAE\n",
      "127.55464675156128\n",
      "MSE\n",
      "26609.543706440505\n",
      "\n",
      "..................................................................................................................\n",
      "BaggingRegressor()\n",
      "0.8266912596020662\n",
      "R2 Score\n",
      "0.04000830037861236\n",
      "MAE\n",
      "135.9229333812318\n",
      "MSE\n",
      "33068.42296269528\n",
      "\n",
      "..................................................................................................................\n",
      "ExtraTreesRegressor()\n",
      "0.9918066911318101\n",
      "R2 Score\n",
      "0.0319013985186678\n",
      "MAE\n",
      "137.1639983235541\n",
      "MSE\n",
      "33347.67793930334\n",
      "\n",
      "..................................................................................................................\n"
     ]
    }
   ],
   "source": [
    "#testing Different Models\n",
    "model=[RandomForestRegressor(),AdaBoostRegressor(), GradientBoostingRegressor(), BaggingRegressor(),ExtraTreesRegressor()]\n",
    "\n",
    "x_train,x_test,y_train,y_test=train_test_split(x, y, random_state=42, test_size=0.20)\n",
    "\n",
    "for i in model:\n",
    "    i.fit(x_train,y_train)\n",
    "    pred=i.predict(x_test)\n",
    "    print(i)\n",
    "    print(i.score(x_train,y_train))\n",
    "    print('R2 Score')\n",
    "    print(r2_score(y_test,pred))\n",
    "    print('MAE')\n",
    "    print(mean_absolute_error(y_test,pred))\n",
    "    print('MSE')\n",
    "    print(mean_squared_error(y_test,pred))\n",
    "    print()\n",
    "    print('..................................................................................................................')"
   ]
  },
  {
   "cell_type": "code",
   "execution_count": 41,
   "metadata": {},
   "outputs": [
    {
     "name": "stdout",
     "output_type": "stream",
     "text": [
      "{'criterion': 'friedman_mse'}\n",
      "0.20278400219317846\n"
     ]
    }
   ],
   "source": [
    "#Grid Search \n",
    "para= {'n_estimators': [100] , 'criterion': ['friedman_mse', 'mse', 'mae']}\n",
    "\n",
    "gd=GridSearchCV( estimator=GradientBoostingRegressor() ,param_grid=para ,cv=5)\n",
    "gd.fit(x,y)\n",
    "best_para= gd.best_params_\n",
    "best_score=gd.best_score_\n",
    "print(best_para)\n",
    "print(best_score)"
   ]
  },
  {
   "cell_type": "code",
   "execution_count": 42,
   "metadata": {},
   "outputs": [
    {
     "name": "stdout",
     "output_type": "stream",
     "text": [
      "max r2 score corrosponding to 81 is 0.23768707967713765\n"
     ]
    }
   ],
   "source": [
    "ge=GradientBoostingRegressor(criterion = 'friedman_mse', n_estimators=100)\n",
    "max_score=0\n",
    "for i in range(1,100):\n",
    "    x_train,x_test,y_train,y_test=train_test_split(x,y, random_state=i, test_size=0.20)\n",
    "    ge.fit(x_train,y_train)\n",
    "    pred=ge.predict(x_test)\n",
    "    r2=r2_score(y_test,pred)\n",
    "    if r2>max_score:\n",
    "        max_score=r2\n",
    "        final=i\n",
    "print('max r2 score corrosponding to' ,final ,'is', max_score)"
   ]
  },
  {
   "cell_type": "code",
   "execution_count": 43,
   "metadata": {},
   "outputs": [
    {
     "name": "stdout",
     "output_type": "stream",
     "text": [
      "0.2509028051156621\n",
      "R2 Score\n",
      "0.23827210674964716\n",
      "MAE\n",
      "128.82493180782538\n",
      "MSE\n",
      "27257.590023211724\n",
      "\n"
     ]
    }
   ],
   "source": [
    "#Calling Model\n",
    "ge=GradientBoostingRegressor(criterion = 'friedman_mse', n_estimators=100)\n",
    "\n",
    "#Train Test Split\n",
    "x_train,x_test,y_train,y_test=train_test_split(x, y, random_state=81, test_size=0.20)\n",
    "\n",
    "#fitting Train data in model\n",
    "ge.fit(x_train,y_train)\n",
    "\n",
    "#Predecting Values\n",
    "pred=ge.predict(x_test)\n",
    "\n",
    "#printing Matrics\n",
    "print(ge.score(x_train,y_train))\n",
    "print('R2 Score')\n",
    "print(r2_score(y_test,pred))\n",
    "print('MAE')\n",
    "print(mean_absolute_error(y_test,pred))\n",
    "print('MSE')\n",
    "print(mean_squared_error(y_test,pred))\n",
    "print()"
   ]
  },
  {
   "cell_type": "code",
   "execution_count": 44,
   "metadata": {},
   "outputs": [
    {
     "data": {
      "text/plain": [
       "0.20296335266934412"
      ]
     },
     "execution_count": 44,
     "metadata": {},
     "output_type": "execute_result"
    }
   ],
   "source": [
    "#Cross Valadation\n",
    "from sklearn.model_selection import cross_val_score\n",
    "cross_val_score(ge,x,y,cv=5).mean()"
   ]
  },
  {
   "cell_type": "code",
   "execution_count": 45,
   "metadata": {},
   "outputs": [],
   "source": [
    "#givig test value to final model\n",
    "pred_fee=ge.predict(ds_te)"
   ]
  },
  {
   "cell_type": "code",
   "execution_count": 46,
   "metadata": {},
   "outputs": [
    {
     "data": {
      "text/plain": [
       "['doctor.pkl']"
      ]
     },
     "execution_count": 46,
     "metadata": {},
     "output_type": "execute_result"
    }
   ],
   "source": [
    "#Saving best Model\n",
    "import joblib\n",
    "joblib.dump(ge,\"doctor.pkl\")"
   ]
  },
  {
   "cell_type": "code",
   "execution_count": null,
   "metadata": {},
   "outputs": [],
   "source": []
  }
 ],
 "metadata": {
  "kernelspec": {
   "display_name": "Python 3",
   "language": "python",
   "name": "python3"
  },
  "language_info": {
   "codemirror_mode": {
    "name": "ipython",
    "version": 3
   },
   "file_extension": ".py",
   "mimetype": "text/x-python",
   "name": "python",
   "nbconvert_exporter": "python",
   "pygments_lexer": "ipython3",
   "version": "3.8.3"
  }
 },
 "nbformat": 4,
 "nbformat_minor": 4
}
